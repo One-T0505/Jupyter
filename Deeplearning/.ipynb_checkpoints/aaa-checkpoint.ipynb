{
 "cells": [
  {
   "cell_type": "code",
   "execution_count": 183,
   "id": "1486ad06",
   "metadata": {},
   "outputs": [],
   "source": [
    "import tensorflow as tf\n",
    "import numpy as np\n",
    "import datetime\n",
    "import os"
   ]
  },
  {
   "cell_type": "code",
   "execution_count": 11,
   "id": "a477c613",
   "metadata": {},
   "outputs": [],
   "source": [
    "a =range(0, 5, 2)\n",
    "b = np.array(a)"
   ]
  },
  {
   "cell_type": "code",
   "execution_count": 12,
   "id": "e3e9c39e",
   "metadata": {},
   "outputs": [
    {
     "data": {
      "text/plain": [
       "[0, 2, 4]"
      ]
     },
     "execution_count": 12,
     "metadata": {},
     "output_type": "execute_result"
    }
   ],
   "source": [
    "list(a)"
   ]
  },
  {
   "cell_type": "code",
   "execution_count": 17,
   "id": "af8d7561",
   "metadata": {},
   "outputs": [],
   "source": [
    "a = \"abc\""
   ]
  },
  {
   "cell_type": "code",
   "execution_count": 18,
   "id": "374a5b67",
   "metadata": {},
   "outputs": [
    {
     "data": {
      "text/plain": [
       "3"
      ]
     },
     "execution_count": 18,
     "metadata": {},
     "output_type": "execute_result"
    }
   ],
   "source": [
    "len(a)"
   ]
  },
  {
   "cell_type": "code",
   "execution_count": 24,
   "id": "379ba3c1",
   "metadata": {},
   "outputs": [],
   "source": [
    "d = \"abc\".encode(\"utf-8\")"
   ]
  },
  {
   "cell_type": "code",
   "execution_count": 28,
   "id": "b92450ce",
   "metadata": {},
   "outputs": [
    {
     "data": {
      "text/plain": [
       "'abc'"
      ]
     },
     "execution_count": 28,
     "metadata": {},
     "output_type": "execute_result"
    }
   ],
   "source": [
    "d.decode(\"utf-8\")"
   ]
  },
  {
   "cell_type": "code",
   "execution_count": 37,
   "id": "2a737d11",
   "metadata": {},
   "outputs": [],
   "source": [
    "list = [10, 5, 12, 6]\n",
    "c =list.pop()"
   ]
  },
  {
   "cell_type": "code",
   "execution_count": 38,
   "id": "a3a0cf07",
   "metadata": {},
   "outputs": [
    {
     "data": {
      "text/plain": [
       "12"
      ]
     },
     "execution_count": 38,
     "metadata": {},
     "output_type": "execute_result"
    }
   ],
   "source": [
    "list.pop(1)\n",
    "list[1]"
   ]
  },
  {
   "cell_type": "code",
   "execution_count": 39,
   "id": "ebb09b0e",
   "metadata": {},
   "outputs": [
    {
     "data": {
      "text/plain": [
       "[10, 12]"
      ]
     },
     "execution_count": 39,
     "metadata": {},
     "output_type": "execute_result"
    }
   ],
   "source": [
    "list"
   ]
  },
  {
   "cell_type": "code",
   "execution_count": 42,
   "id": "3c427514",
   "metadata": {},
   "outputs": [],
   "source": [
    "q = list.copy()"
   ]
  },
  {
   "cell_type": "code",
   "execution_count": 45,
   "id": "e42cd13c",
   "metadata": {},
   "outputs": [
    {
     "name": "stdout",
     "output_type": "stream",
     "text": [
      "1909920702728\t1909920172680\n"
     ]
    }
   ],
   "source": [
    "print(f\"{id(list)}\\t{id(q)}\")"
   ]
  },
  {
   "cell_type": "code",
   "execution_count": 48,
   "id": "d37a5a00",
   "metadata": {},
   "outputs": [
    {
     "data": {
      "text/plain": [
       "0"
      ]
     },
     "execution_count": 48,
     "metadata": {},
     "output_type": "execute_result"
    }
   ],
   "source": [
    "list.count(\"a\")"
   ]
  },
  {
   "cell_type": "code",
   "execution_count": 53,
   "id": "8ff5d9fa",
   "metadata": {},
   "outputs": [],
   "source": [
    "list.reverse()"
   ]
  },
  {
   "cell_type": "code",
   "execution_count": 54,
   "id": "6321cae6",
   "metadata": {},
   "outputs": [
    {
     "data": {
      "text/plain": [
       "[12, 10]"
      ]
     },
     "execution_count": 54,
     "metadata": {},
     "output_type": "execute_result"
    }
   ],
   "source": [
    "list"
   ]
  },
  {
   "cell_type": "code",
   "execution_count": 60,
   "id": "c24cd731",
   "metadata": {},
   "outputs": [],
   "source": [
    "list.append([[1, 2]])"
   ]
  },
  {
   "cell_type": "code",
   "execution_count": 61,
   "id": "213172f8",
   "metadata": {},
   "outputs": [
    {
     "data": {
      "text/plain": [
       "[12, 10, 1, 2, [1, 2], [[1, 2]]]"
      ]
     },
     "execution_count": 61,
     "metadata": {},
     "output_type": "execute_result"
    }
   ],
   "source": [
    "list"
   ]
  },
  {
   "cell_type": "code",
   "execution_count": 62,
   "id": "096bea57",
   "metadata": {},
   "outputs": [
    {
     "data": {
      "text/plain": [
       "[1, 2]"
      ]
     },
     "execution_count": 62,
     "metadata": {},
     "output_type": "execute_result"
    }
   ],
   "source": [
    "list[5][0]"
   ]
  },
  {
   "cell_type": "code",
   "execution_count": 68,
   "id": "8d4d9610",
   "metadata": {},
   "outputs": [
    {
     "ename": "TypeError",
     "evalue": "'axis' is an invalid keyword argument for sort()",
     "output_type": "error",
     "traceback": [
      "\u001b[1;31m---------------------------------------------------------------------------\u001b[0m",
      "\u001b[1;31mTypeError\u001b[0m                                 Traceback (most recent call last)",
      "\u001b[1;32m~\\AppData\\Local\\Temp\\ipykernel_1460\\1999842630.py\u001b[0m in \u001b[0;36m<module>\u001b[1;34m\u001b[0m\n\u001b[0;32m      1\u001b[0m \u001b[0mw\u001b[0m \u001b[1;33m=\u001b[0m \u001b[1;33m[\u001b[0m\u001b[1;33m[\u001b[0m\u001b[1;36m15\u001b[0m\u001b[1;33m,\u001b[0m \u001b[1;36m22\u001b[0m\u001b[1;33m,\u001b[0m \u001b[1;36m3\u001b[0m\u001b[1;33m,\u001b[0m \u001b[1;36m8\u001b[0m\u001b[1;33m,\u001b[0m \u001b[1;36m11\u001b[0m\u001b[1;33m]\u001b[0m\u001b[1;33m,\u001b[0m \u001b[1;33m[\u001b[0m\u001b[1;36m21\u001b[0m\u001b[1;33m,\u001b[0m \u001b[1;36m51\u001b[0m\u001b[1;33m,\u001b[0m \u001b[1;36m30\u001b[0m\u001b[1;33m,\u001b[0m \u001b[1;36m17\u001b[0m\u001b[1;33m,\u001b[0m \u001b[1;36m5\u001b[0m\u001b[1;33m]\u001b[0m\u001b[1;33m]\u001b[0m\u001b[1;33m\u001b[0m\u001b[1;33m\u001b[0m\u001b[0m\n\u001b[1;32m----> 2\u001b[1;33m \u001b[0mw\u001b[0m\u001b[1;33m.\u001b[0m\u001b[0msort\u001b[0m\u001b[1;33m(\u001b[0m\u001b[0maxis\u001b[0m \u001b[1;33m=\u001b[0m\u001b[1;36m1\u001b[0m\u001b[1;33m)\u001b[0m\u001b[1;33m\u001b[0m\u001b[1;33m\u001b[0m\u001b[0m\n\u001b[0m",
      "\u001b[1;31mTypeError\u001b[0m: 'axis' is an invalid keyword argument for sort()"
     ]
    }
   ],
   "source": [
    "w = [[15, 22, 3, 8, 11], [21, 51, 30, 17, 5]]\n",
    "w.sort(axis =1)"
   ]
  },
  {
   "cell_type": "code",
   "execution_count": 70,
   "id": "fa713604",
   "metadata": {},
   "outputs": [],
   "source": [
    "c =tuple(w)"
   ]
  },
  {
   "cell_type": "code",
   "execution_count": 72,
   "id": "5c56eade",
   "metadata": {},
   "outputs": [],
   "source": [
    "dic = {\"names\":[\"a\", \"b\", \"c\"], \"age\":[18, 23, 24], \"sex\":[\"female\", \"male\", \"female\"]}"
   ]
  },
  {
   "cell_type": "code",
   "execution_count": 99,
   "id": "22349715",
   "metadata": {},
   "outputs": [],
   "source": [
    "dic.get(\"names\")"
   ]
  },
  {
   "cell_type": "code",
   "execution_count": 102,
   "id": "0a6278e6",
   "metadata": {},
   "outputs": [
    {
     "data": {
      "text/plain": [
       "{4, 5, 8, 10}"
      ]
     },
     "execution_count": 102,
     "metadata": {},
     "output_type": "execute_result"
    }
   ],
   "source": [
    "s = set([10, 10, 8, 5, 4])"
   ]
  },
  {
   "cell_type": "code",
   "execution_count": 103,
   "id": "4a276e10",
   "metadata": {},
   "outputs": [],
   "source": [
    "p = set([11, 18, 4, 2])"
   ]
  },
  {
   "cell_type": "code",
   "execution_count": 104,
   "id": "aed6be6a",
   "metadata": {},
   "outputs": [
    {
     "data": {
      "text/plain": [
       "{5, 8, 10}"
      ]
     },
     "execution_count": 104,
     "metadata": {},
     "output_type": "execute_result"
    }
   ],
   "source": [
    "s.difference(p)"
   ]
  },
  {
   "cell_type": "code",
   "execution_count": 105,
   "id": "9a6eeee6",
   "metadata": {},
   "outputs": [
    {
     "data": {
      "text/plain": [
       "{2, 11, 18}"
      ]
     },
     "execution_count": 105,
     "metadata": {},
     "output_type": "execute_result"
    }
   ],
   "source": [
    "p.difference(s)"
   ]
  },
  {
   "cell_type": "code",
   "execution_count": 106,
   "id": "76849b3e",
   "metadata": {},
   "outputs": [
    {
     "data": {
      "text/plain": [
       "{2, 5, 8, 10, 11, 18}"
      ]
     },
     "execution_count": 106,
     "metadata": {},
     "output_type": "execute_result"
    }
   ],
   "source": [
    "s.symmetric_difference(p)"
   ]
  },
  {
   "cell_type": "code",
   "execution_count": 107,
   "id": "90201fda",
   "metadata": {},
   "outputs": [
    {
     "data": {
      "text/plain": [
       "False"
      ]
     },
     "execution_count": 107,
     "metadata": {},
     "output_type": "execute_result"
    }
   ],
   "source": [
    "s.isdisjoint(p)"
   ]
  },
  {
   "cell_type": "code",
   "execution_count": 110,
   "id": "78a7e494",
   "metadata": {},
   "outputs": [
    {
     "data": {
      "text/plain": [
       "[16, 64, 144, 256]"
      ]
     },
     "execution_count": 110,
     "metadata": {},
     "output_type": "execute_result"
    }
   ],
   "source": [
    "[i**2 for i in range(1, 20) if (i%2==0) & (i%4==0)]"
   ]
  },
  {
   "cell_type": "code",
   "execution_count": 111,
   "id": "3eb7b596",
   "metadata": {},
   "outputs": [
    {
     "data": {
      "text/plain": [
       "'A'"
      ]
     },
     "execution_count": 111,
     "metadata": {},
     "output_type": "execute_result"
    }
   ],
   "source": [
    "chr(65)"
   ]
  },
  {
   "cell_type": "code",
   "execution_count": 132,
   "id": "5c80ba00",
   "metadata": {},
   "outputs": [],
   "source": [
    "dt = datetime.datetime(2015,10,12)"
   ]
  },
  {
   "cell_type": "code",
   "execution_count": 144,
   "id": "62071a34",
   "metadata": {},
   "outputs": [
    {
     "data": {
      "text/plain": [
       "datetime.datetime(2029, 9, 26, 20, 51, 51)"
      ]
     },
     "execution_count": 144,
     "metadata": {},
     "output_type": "execute_result"
    }
   ],
   "source": [
    "dt.fromtimestamp(115121511.0)"
   ]
  },
  {
   "cell_type": "code",
   "execution_count": 151,
   "id": "f783fe74",
   "metadata": {},
   "outputs": [
    {
     "data": {
      "text/plain": [
       "datetime.datetime(2022, 11, 10, 0, 0)"
      ]
     },
     "execution_count": 151,
     "metadata": {},
     "output_type": "execute_result"
    }
   ],
   "source": [
    "datetime.datetime.strptime(\"2022-11-10\", \"%Y-%m-%d\")"
   ]
  },
  {
   "cell_type": "code",
   "execution_count": 153,
   "id": "98a37524",
   "metadata": {},
   "outputs": [
    {
     "data": {
      "text/plain": [
       "datetime.datetime(2022, 4, 15, 15, 32, 47, 137218)"
      ]
     },
     "execution_count": 153,
     "metadata": {},
     "output_type": "execute_result"
    }
   ],
   "source": [
    "datetime.timedelta(days=5)+datetime.datetime.now()"
   ]
  },
  {
   "cell_type": "code",
   "execution_count": 154,
   "id": "04eaae8d",
   "metadata": {},
   "outputs": [
    {
     "data": {
      "text/plain": [
       "'Aaaaaasdsa'"
      ]
     },
     "execution_count": 154,
     "metadata": {},
     "output_type": "execute_result"
    }
   ],
   "source": [
    "st = \"aaaaaasdSa\"\n",
    "st.capitalize()"
   ]
  },
  {
   "cell_type": "code",
   "execution_count": 157,
   "id": "46366467",
   "metadata": {},
   "outputs": [
    {
     "data": {
      "text/plain": [
       "1"
      ]
     },
     "execution_count": 157,
     "metadata": {},
     "output_type": "execute_result"
    }
   ],
   "source": [
    "st.count(\"as\")"
   ]
  },
  {
   "cell_type": "code",
   "execution_count": 158,
   "id": "c20e9ea3",
   "metadata": {},
   "outputs": [
    {
     "data": {
      "text/plain": [
       "b'aaaaaasdSa'"
      ]
     },
     "execution_count": 158,
     "metadata": {},
     "output_type": "execute_result"
    }
   ],
   "source": [
    "st.encode(\"utf-8\")"
   ]
  },
  {
   "cell_type": "code",
   "execution_count": 160,
   "id": "c9f2a976",
   "metadata": {},
   "outputs": [
    {
     "data": {
      "text/plain": [
       "0"
      ]
     },
     "execution_count": 160,
     "metadata": {},
     "output_type": "execute_result"
    }
   ],
   "source": [
    "st.find(\"a\")"
   ]
  },
  {
   "cell_type": "code",
   "execution_count": 163,
   "id": "da55eb4d",
   "metadata": {},
   "outputs": [
    {
     "data": {
      "text/plain": [
       "5"
      ]
     },
     "execution_count": 163,
     "metadata": {},
     "output_type": "execute_result"
    }
   ],
   "source": [
    "st.index(\"as\")"
   ]
  },
  {
   "cell_type": "code",
   "execution_count": 164,
   "id": "fa6a78d7",
   "metadata": {},
   "outputs": [
    {
     "data": {
      "text/plain": [
       "True"
      ]
     },
     "execution_count": 164,
     "metadata": {},
     "output_type": "execute_result"
    }
   ],
   "source": [
    "st.startswith(\"aa\")"
   ]
  },
  {
   "cell_type": "code",
   "execution_count": 165,
   "id": "db43ed4e",
   "metadata": {},
   "outputs": [
    {
     "data": {
      "text/plain": [
       "False"
      ]
     },
     "execution_count": 165,
     "metadata": {},
     "output_type": "execute_result"
    }
   ],
   "source": [
    "st.endswith(\"as\")"
   ]
  },
  {
   "cell_type": "code",
   "execution_count": 166,
   "id": "d74124e6",
   "metadata": {},
   "outputs": [
    {
     "data": {
      "text/plain": [
       "False"
      ]
     },
     "execution_count": 166,
     "metadata": {},
     "output_type": "execute_result"
    }
   ],
   "source": [
    "st.isdecimal()"
   ]
  },
  {
   "cell_type": "code",
   "execution_count": 170,
   "id": "2ca5029b",
   "metadata": {},
   "outputs": [
    {
     "data": {
      "text/plain": [
       "False"
      ]
     },
     "execution_count": 170,
     "metadata": {},
     "output_type": "execute_result"
    }
   ],
   "source": [
    "\"123w\".isdigit()"
   ]
  },
  {
   "cell_type": "code",
   "execution_count": 173,
   "id": "5db19e21",
   "metadata": {},
   "outputs": [
    {
     "data": {
      "text/plain": [
       "False"
      ]
     },
     "execution_count": 173,
     "metadata": {},
     "output_type": "execute_result"
    }
   ],
   "source": [
    "st.islower()"
   ]
  },
  {
   "cell_type": "code",
   "execution_count": 176,
   "id": "8541e12d",
   "metadata": {},
   "outputs": [
    {
     "data": {
      "text/plain": [
       "'WUOaaaaaasdSaCB'"
      ]
     },
     "execution_count": 176,
     "metadata": {},
     "output_type": "execute_result"
    }
   ],
   "source": [
    "st.join((\"WUO\", \"CB\"))"
   ]
  },
  {
   "cell_type": "code",
   "execution_count": 182,
   "id": "35ee4439",
   "metadata": {},
   "outputs": [
    {
     "data": {
      "text/plain": [
       "'mlmlmlmlmlmlsdSml'"
      ]
     },
     "execution_count": 182,
     "metadata": {},
     "output_type": "execute_result"
    }
   ],
   "source": [
    "st.replace(\"a\", \"ml\")"
   ]
  },
  {
   "cell_type": "code",
   "execution_count": null,
   "id": "ea985de3",
   "metadata": {
    "collapsed": true
   },
   "outputs": [],
   "source": [
    "st."
   ]
  }
 ],
 "metadata": {
  "kernelspec": {
   "display_name": "Python 3 (ipykernel)",
   "language": "python",
   "name": "python3"
  },
  "language_info": {
   "codemirror_mode": {
    "name": "ipython",
    "version": 3
   },
   "file_extension": ".py",
   "mimetype": "text/x-python",
   "name": "python",
   "nbconvert_exporter": "python",
   "pygments_lexer": "ipython3",
   "version": "3.7.11"
  }
 },
 "nbformat": 4,
 "nbformat_minor": 5
}
