{
 "cells": [
  {
   "cell_type": "code",
   "execution_count": 183,
   "id": "79feaa1f",
   "metadata": {},
   "outputs": [],
   "source": [
    "import tensorflow as tf\n",
    "import numpy as np\n",
    "import datetime\n",
    "import os"
   ]
  },
  {
   "cell_type": "code",
   "execution_count": 11,
   "id": "0dd482bc",
   "metadata": {},
   "outputs": [],
   "source": [
    "a =range(0, 5, 2)\n",
    "b = np.array(a)"
   ]
  },
  {
   "cell_type": "code",
   "execution_count": 12,
   "id": "5c9825fb",
   "metadata": {},
   "outputs": [
    {
     "data": {
      "text/plain": [
       "[0, 2, 4]"
      ]
     },
     "execution_count": 12,
     "metadata": {},
     "output_type": "execute_result"
    }
   ],
   "source": [
    "list(a)"
   ]
  },
  {
   "cell_type": "code",
   "execution_count": 17,
   "id": "d682e2f2",
   "metadata": {},
   "outputs": [],
   "source": [
    "a = \"abc\""
   ]
  },
  {
   "cell_type": "code",
   "execution_count": 18,
   "id": "36c18c3f",
   "metadata": {},
   "outputs": [
    {
     "data": {
      "text/plain": [
       "3"
      ]
     },
     "execution_count": 18,
     "metadata": {},
     "output_type": "execute_result"
    }
   ],
   "source": [
    "len(a)"
   ]
  },
  {
   "cell_type": "code",
   "execution_count": 24,
   "id": "a795cf12",
   "metadata": {},
   "outputs": [],
   "source": [
    "d = \"abc\".encode(\"utf-8\")"
   ]
  },
  {
   "cell_type": "code",
   "execution_count": 28,
   "id": "46f24a50",
   "metadata": {},
   "outputs": [
    {
     "data": {
      "text/plain": [
       "'abc'"
      ]
     },
     "execution_count": 28,
     "metadata": {},
     "output_type": "execute_result"
    }
   ],
   "source": [
    "d.decode(\"utf-8\")"
   ]
  },
  {
   "cell_type": "code",
   "execution_count": 37,
   "id": "92cdfaa8",
   "metadata": {},
   "outputs": [],
   "source": [
    "list = [10, 5, 12, 6]\n",
    "c =list.pop()"
   ]
  },
  {
   "cell_type": "code",
   "execution_count": 38,
   "id": "7342a788",
   "metadata": {},
   "outputs": [
    {
     "data": {
      "text/plain": [
       "12"
      ]
     },
     "execution_count": 38,
     "metadata": {},
     "output_type": "execute_result"
    }
   ],
   "source": [
    "list.pop(1)\n",
    "list[1]"
   ]
  },
  {
   "cell_type": "code",
   "execution_count": 39,
   "id": "ff371389",
   "metadata": {},
   "outputs": [
    {
     "data": {
      "text/plain": [
       "[10, 12]"
      ]
     },
     "execution_count": 39,
     "metadata": {},
     "output_type": "execute_result"
    }
   ],
   "source": [
    "list"
   ]
  },
  {
   "cell_type": "code",
   "execution_count": 42,
   "id": "d3b86548",
   "metadata": {},
   "outputs": [],
   "source": [
    "q = list.copy()"
   ]
  },
  {
   "cell_type": "code",
   "execution_count": 45,
   "id": "74b2a8f5",
   "metadata": {},
   "outputs": [
    {
     "name": "stdout",
     "output_type": "stream",
     "text": [
      "1909920702728\t1909920172680\n"
     ]
    }
   ],
   "source": [
    "print(f\"{id(list)}\\t{id(q)}\")"
   ]
  },
  {
   "cell_type": "code",
   "execution_count": 48,
   "id": "de1fa90a",
   "metadata": {},
   "outputs": [
    {
     "data": {
      "text/plain": [
       "0"
      ]
     },
     "execution_count": 48,
     "metadata": {},
     "output_type": "execute_result"
    }
   ],
   "source": [
    "list.count(\"a\")"
   ]
  },
  {
   "cell_type": "code",
   "execution_count": 53,
   "id": "8bed7e08",
   "metadata": {},
   "outputs": [],
   "source": [
    "list.reverse()"
   ]
  },
  {
   "cell_type": "code",
   "execution_count": 54,
   "id": "7d5d0bc7",
   "metadata": {},
   "outputs": [
    {
     "data": {
      "text/plain": [
       "[12, 10]"
      ]
     },
     "execution_count": 54,
     "metadata": {},
     "output_type": "execute_result"
    }
   ],
   "source": [
    "list"
   ]
  },
  {
   "cell_type": "code",
   "execution_count": 60,
   "id": "5db26691",
   "metadata": {},
   "outputs": [],
   "source": [
    "list.append([[1, 2]])"
   ]
  },
  {
   "cell_type": "code",
   "execution_count": 61,
   "id": "327ef76b",
   "metadata": {},
   "outputs": [
    {
     "data": {
      "text/plain": [
       "[12, 10, 1, 2, [1, 2], [[1, 2]]]"
      ]
     },
     "execution_count": 61,
     "metadata": {},
     "output_type": "execute_result"
    }
   ],
   "source": [
    "list"
   ]
  },
  {
   "cell_type": "code",
   "execution_count": 62,
   "id": "8020e8d8",
   "metadata": {},
   "outputs": [
    {
     "data": {
      "text/plain": [
       "[1, 2]"
      ]
     },
     "execution_count": 62,
     "metadata": {},
     "output_type": "execute_result"
    }
   ],
   "source": [
    "list[5][0]"
   ]
  },
  {
   "cell_type": "code",
   "execution_count": 68,
   "id": "22f2d270",
   "metadata": {},
   "outputs": [
    {
     "ename": "TypeError",
     "evalue": "'axis' is an invalid keyword argument for sort()",
     "output_type": "error",
     "traceback": [
      "\u001b[1;31m---------------------------------------------------------------------------\u001b[0m",
      "\u001b[1;31mTypeError\u001b[0m                                 Traceback (most recent call last)",
      "\u001b[1;32m~\\AppData\\Local\\Temp\\ipykernel_1460\\1999842630.py\u001b[0m in \u001b[0;36m<module>\u001b[1;34m\u001b[0m\n\u001b[0;32m      1\u001b[0m \u001b[0mw\u001b[0m \u001b[1;33m=\u001b[0m \u001b[1;33m[\u001b[0m\u001b[1;33m[\u001b[0m\u001b[1;36m15\u001b[0m\u001b[1;33m,\u001b[0m \u001b[1;36m22\u001b[0m\u001b[1;33m,\u001b[0m \u001b[1;36m3\u001b[0m\u001b[1;33m,\u001b[0m \u001b[1;36m8\u001b[0m\u001b[1;33m,\u001b[0m \u001b[1;36m11\u001b[0m\u001b[1;33m]\u001b[0m\u001b[1;33m,\u001b[0m \u001b[1;33m[\u001b[0m\u001b[1;36m21\u001b[0m\u001b[1;33m,\u001b[0m \u001b[1;36m51\u001b[0m\u001b[1;33m,\u001b[0m \u001b[1;36m30\u001b[0m\u001b[1;33m,\u001b[0m \u001b[1;36m17\u001b[0m\u001b[1;33m,\u001b[0m \u001b[1;36m5\u001b[0m\u001b[1;33m]\u001b[0m\u001b[1;33m]\u001b[0m\u001b[1;33m\u001b[0m\u001b[1;33m\u001b[0m\u001b[0m\n\u001b[1;32m----> 2\u001b[1;33m \u001b[0mw\u001b[0m\u001b[1;33m.\u001b[0m\u001b[0msort\u001b[0m\u001b[1;33m(\u001b[0m\u001b[0maxis\u001b[0m \u001b[1;33m=\u001b[0m\u001b[1;36m1\u001b[0m\u001b[1;33m)\u001b[0m\u001b[1;33m\u001b[0m\u001b[1;33m\u001b[0m\u001b[0m\n\u001b[0m",
      "\u001b[1;31mTypeError\u001b[0m: 'axis' is an invalid keyword argument for sort()"
     ]
    }
   ],
   "source": [
    "w = [[15, 22, 3, 8, 11], [21, 51, 30, 17, 5]]\n",
    "w.sort(axis =1)"
   ]
  },
  {
   "cell_type": "code",
   "execution_count": 70,
   "id": "9347606f",
   "metadata": {},
   "outputs": [],
   "source": [
    "c =tuple(w)"
   ]
  },
  {
   "cell_type": "code",
   "execution_count": 72,
   "id": "aa04e2b7",
   "metadata": {},
   "outputs": [],
   "source": [
    "dic = {\"names\":[\"a\", \"b\", \"c\"], \"age\":[18, 23, 24], \"sex\":[\"female\", \"male\", \"female\"]}"
   ]
  },
  {
   "cell_type": "code",
   "execution_count": 99,
   "id": "50e36103",
   "metadata": {},
   "outputs": [],
   "source": [
    "dic.get(\"names\")"
   ]
  },
  {
   "cell_type": "code",
   "execution_count": 102,
   "id": "5080ec8c",
   "metadata": {},
   "outputs": [
    {
     "data": {
      "text/plain": [
       "{4, 5, 8, 10}"
      ]
     },
     "execution_count": 102,
     "metadata": {},
     "output_type": "execute_result"
    }
   ],
   "source": [
    "s = set([10, 10, 8, 5, 4])"
   ]
  },
  {
   "cell_type": "code",
   "execution_count": 103,
   "id": "50d17002",
   "metadata": {},
   "outputs": [],
   "source": [
    "p = set([11, 18, 4, 2])"
   ]
  },
  {
   "cell_type": "code",
   "execution_count": 104,
   "id": "dc30164c",
   "metadata": {},
   "outputs": [
    {
     "data": {
      "text/plain": [
       "{5, 8, 10}"
      ]
     },
     "execution_count": 104,
     "metadata": {},
     "output_type": "execute_result"
    }
   ],
   "source": [
    "s.difference(p)"
   ]
  },
  {
   "cell_type": "code",
   "execution_count": 105,
   "id": "41136f87",
   "metadata": {},
   "outputs": [
    {
     "data": {
      "text/plain": [
       "{2, 11, 18}"
      ]
     },
     "execution_count": 105,
     "metadata": {},
     "output_type": "execute_result"
    }
   ],
   "source": [
    "p.difference(s)"
   ]
  },
  {
   "cell_type": "code",
   "execution_count": 106,
   "id": "b9499101",
   "metadata": {},
   "outputs": [
    {
     "data": {
      "text/plain": [
       "{2, 5, 8, 10, 11, 18}"
      ]
     },
     "execution_count": 106,
     "metadata": {},
     "output_type": "execute_result"
    }
   ],
   "source": [
    "s.symmetric_difference(p)"
   ]
  },
  {
   "cell_type": "code",
   "execution_count": 107,
   "id": "8b1db52d",
   "metadata": {},
   "outputs": [
    {
     "data": {
      "text/plain": [
       "False"
      ]
     },
     "execution_count": 107,
     "metadata": {},
     "output_type": "execute_result"
    }
   ],
   "source": [
    "s.isdisjoint(p)"
   ]
  },
  {
   "cell_type": "code",
   "execution_count": 110,
   "id": "cfcb0ab2",
   "metadata": {},
   "outputs": [
    {
     "data": {
      "text/plain": [
       "[16, 64, 144, 256]"
      ]
     },
     "execution_count": 110,
     "metadata": {},
     "output_type": "execute_result"
    }
   ],
   "source": [
    "[i**2 for i in range(1, 20) if (i%2==0) & (i%4==0)]"
   ]
  },
  {
   "cell_type": "code",
   "execution_count": 111,
   "id": "a87e4838",
   "metadata": {},
   "outputs": [
    {
     "data": {
      "text/plain": [
       "'A'"
      ]
     },
     "execution_count": 111,
     "metadata": {},
     "output_type": "execute_result"
    }
   ],
   "source": [
    "chr(65)"
   ]
  },
  {
   "cell_type": "code",
   "execution_count": 132,
   "id": "8eacb6ae",
   "metadata": {},
   "outputs": [],
   "source": [
    "dt = datetime.datetime(2015,10,12)"
   ]
  },
  {
   "cell_type": "code",
   "execution_count": 144,
   "id": "5fadb729",
   "metadata": {},
   "outputs": [
    {
     "data": {
      "text/plain": [
       "datetime.datetime(2029, 9, 26, 20, 51, 51)"
      ]
     },
     "execution_count": 144,
     "metadata": {},
     "output_type": "execute_result"
    }
   ],
   "source": [
    "dt.fromtimestamp(115121511.0)"
   ]
  },
  {
   "cell_type": "code",
   "execution_count": 151,
   "id": "37500b48",
   "metadata": {},
   "outputs": [
    {
     "data": {
      "text/plain": [
       "datetime.datetime(2022, 11, 10, 0, 0)"
      ]
     },
     "execution_count": 151,
     "metadata": {},
     "output_type": "execute_result"
    }
   ],
   "source": [
    "datetime.datetime.strptime(\"2022-11-10\", \"%Y-%m-%d\")"
   ]
  },
  {
   "cell_type": "code",
   "execution_count": 153,
   "id": "ecf4b614",
   "metadata": {},
   "outputs": [
    {
     "data": {
      "text/plain": [
       "datetime.datetime(2022, 4, 15, 15, 32, 47, 137218)"
      ]
     },
     "execution_count": 153,
     "metadata": {},
     "output_type": "execute_result"
    }
   ],
   "source": [
    "datetime.timedelta(days=5)+datetime.datetime.now()"
   ]
  },
  {
   "cell_type": "code",
   "execution_count": 154,
   "id": "cdcb7b06",
   "metadata": {},
   "outputs": [
    {
     "data": {
      "text/plain": [
       "'Aaaaaasdsa'"
      ]
     },
     "execution_count": 154,
     "metadata": {},
     "output_type": "execute_result"
    }
   ],
   "source": [
    "st = \"aaaaaasdSa\"\n",
    "st.capitalize()"
   ]
  },
  {
   "cell_type": "code",
   "execution_count": 157,
   "id": "b9983b96",
   "metadata": {},
   "outputs": [
    {
     "data": {
      "text/plain": [
       "1"
      ]
     },
     "execution_count": 157,
     "metadata": {},
     "output_type": "execute_result"
    }
   ],
   "source": [
    "st.count(\"as\")"
   ]
  },
  {
   "cell_type": "code",
   "execution_count": 158,
   "id": "c5ae4002",
   "metadata": {},
   "outputs": [
    {
     "data": {
      "text/plain": [
       "b'aaaaaasdSa'"
      ]
     },
     "execution_count": 158,
     "metadata": {},
     "output_type": "execute_result"
    }
   ],
   "source": [
    "st.encode(\"utf-8\")"
   ]
  },
  {
   "cell_type": "code",
   "execution_count": 160,
   "id": "0723bcd3",
   "metadata": {},
   "outputs": [
    {
     "data": {
      "text/plain": [
       "0"
      ]
     },
     "execution_count": 160,
     "metadata": {},
     "output_type": "execute_result"
    }
   ],
   "source": [
    "st.find(\"a\")"
   ]
  },
  {
   "cell_type": "code",
   "execution_count": 163,
   "id": "86938baa",
   "metadata": {},
   "outputs": [
    {
     "data": {
      "text/plain": [
       "5"
      ]
     },
     "execution_count": 163,
     "metadata": {},
     "output_type": "execute_result"
    }
   ],
   "source": [
    "st.index(\"as\")"
   ]
  },
  {
   "cell_type": "code",
   "execution_count": 164,
   "id": "95fe9628",
   "metadata": {},
   "outputs": [
    {
     "data": {
      "text/plain": [
       "True"
      ]
     },
     "execution_count": 164,
     "metadata": {},
     "output_type": "execute_result"
    }
   ],
   "source": [
    "st.startswith(\"aa\")"
   ]
  },
  {
   "cell_type": "code",
   "execution_count": 165,
   "id": "3c61d240",
   "metadata": {},
   "outputs": [
    {
     "data": {
      "text/plain": [
       "False"
      ]
     },
     "execution_count": 165,
     "metadata": {},
     "output_type": "execute_result"
    }
   ],
   "source": [
    "st.endswith(\"as\")"
   ]
  },
  {
   "cell_type": "code",
   "execution_count": 166,
   "id": "391e3b9d",
   "metadata": {},
   "outputs": [
    {
     "data": {
      "text/plain": [
       "False"
      ]
     },
     "execution_count": 166,
     "metadata": {},
     "output_type": "execute_result"
    }
   ],
   "source": [
    "st.isdecimal()"
   ]
  },
  {
   "cell_type": "code",
   "execution_count": 170,
   "id": "8535cf5f",
   "metadata": {},
   "outputs": [
    {
     "data": {
      "text/plain": [
       "False"
      ]
     },
     "execution_count": 170,
     "metadata": {},
     "output_type": "execute_result"
    }
   ],
   "source": [
    "\"123w\".isdigit()"
   ]
  },
  {
   "cell_type": "code",
   "execution_count": 173,
   "id": "6f897c8d",
   "metadata": {},
   "outputs": [
    {
     "data": {
      "text/plain": [
       "False"
      ]
     },
     "execution_count": 173,
     "metadata": {},
     "output_type": "execute_result"
    }
   ],
   "source": [
    "st.islower()"
   ]
  },
  {
   "cell_type": "code",
   "execution_count": 176,
   "id": "da204954",
   "metadata": {},
   "outputs": [
    {
     "data": {
      "text/plain": [
       "'WUOaaaaaasdSaCB'"
      ]
     },
     "execution_count": 176,
     "metadata": {},
     "output_type": "execute_result"
    }
   ],
   "source": [
    "st.join((\"WUO\", \"CB\"))"
   ]
  },
  {
   "cell_type": "code",
   "execution_count": 182,
   "id": "1a1c4399",
   "metadata": {},
   "outputs": [
    {
     "data": {
      "text/plain": [
       "'mlmlmlmlmlmlsdSml'"
      ]
     },
     "execution_count": 182,
     "metadata": {},
     "output_type": "execute_result"
    }
   ],
   "source": [
    "st.replace(\"a\", \"ml\")"
   ]
  },
  {
   "cell_type": "code",
   "execution_count": 189,
   "id": "2e78a274",
   "metadata": {},
   "outputs": [
    {
     "data": {
      "text/plain": [
       "environ{'ALLUSERSPROFILE': 'C:\\\\ProgramData',\n",
       "        'APPDATA': 'C:\\\\Users\\\\11434\\\\AppData\\\\Roaming',\n",
       "        'CLASSPATH': '.;D:\\\\JDK17.0.2\\\\Install\\\\bin;D:\\\\JDK17.0.2\\\\Install\\\\lib\\\\dt.jar;D:\\\\JDK17.0.2\\\\Install\\\\lib\\\\tools.jar',\n",
       "        'COMMONPROGRAMFILES': 'C:\\\\Program Files\\\\Common Files',\n",
       "        'COMMONPROGRAMFILES(X86)': 'C:\\\\Program Files (x86)\\\\Common Files',\n",
       "        'COMMONPROGRAMW6432': 'C:\\\\Program Files\\\\Common Files',\n",
       "        'COMPUTERNAME': 'DESKTOP-667QQQ8',\n",
       "        'COMSPEC': 'C:\\\\Windows\\\\system32\\\\cmd.exe',\n",
       "        'CONDA_DEFAULT_ENV': 'TF2.3-gpu',\n",
       "        'CONDA_EXE': 'D:\\\\Anaconda3\\\\Install\\\\Scripts\\\\conda.exe',\n",
       "        'CONDA_PREFIX': 'D:\\\\Anaconda3\\\\Install\\\\envs\\\\TF2.3-gpu',\n",
       "        'CONDA_PREFIX_1': 'D:\\\\Anaconda3\\\\Install',\n",
       "        'CONDA_PROMPT_MODIFIER': '(TF2.3-gpu) ',\n",
       "        'CONDA_PYTHON_EXE': 'D:\\\\Anaconda3\\\\Install\\\\python.exe',\n",
       "        'CONDA_SHLVL': '2',\n",
       "        'DRIVERDATA': 'C:\\\\Windows\\\\System32\\\\Drivers\\\\DriverData',\n",
       "        'HOMEDRIVE': 'C:',\n",
       "        'HOMEPATH': '\\\\Users\\\\11434',\n",
       "        'INTELLIJ IDEA': 'D:\\\\JetBrains\\\\IDEA2021.3.2\\\\Install\\\\IntelliJ IDEA 2021.3.2\\\\bin;',\n",
       "        'JAVA_HOME': 'D:\\\\JDK17.0.2\\\\Install',\n",
       "        'LOCALAPPDATA': 'C:\\\\Users\\\\11434\\\\AppData\\\\Local',\n",
       "        'LOGONSERVER': '\\\\\\\\DESKTOP-667QQQ8',\n",
       "        'NUMBER_OF_PROCESSORS': '12',\n",
       "        'NVTOOLSEXT_PATH': 'C:\\\\Program Files\\\\NVIDIA Corporation\\\\NvToolsExt\\\\',\n",
       "        'ONEDRIVE': 'D:\\\\OneDrive',\n",
       "        'ONEDRIVECONSUMER': 'D:\\\\OneDrive',\n",
       "        'OS': 'Windows_NT',\n",
       "        'PATH': 'D:\\\\Anaconda3\\\\Install\\\\envs\\\\TF2.3-gpu;D:\\\\Anaconda3\\\\Install\\\\envs\\\\TF2.3-gpu\\\\Library\\\\mingw-w64\\\\bin;D:\\\\Anaconda3\\\\Install\\\\envs\\\\TF2.3-gpu\\\\Library\\\\usr\\\\bin;D:\\\\Anaconda3\\\\Install\\\\envs\\\\TF2.3-gpu\\\\Library\\\\bin;D:\\\\Anaconda3\\\\Install\\\\envs\\\\TF2.3-gpu\\\\Scripts;D:\\\\Anaconda3\\\\Install\\\\envs\\\\TF2.3-gpu\\\\bin;D:\\\\Anaconda3\\\\Install\\\\condabin;C:\\\\ProgramData\\\\Oracle\\\\Java\\\\javapath;D:\\\\VMwares\\\\Install\\\\bin;D:\\\\JDK17.0.2\\\\Install\\\\bin;D:\\\\JDK17.0.2\\\\Install\\\\jre\\\\bin;C:\\\\Program Files\\\\Common Files\\\\Oracle\\\\Java\\\\javapath;C:\\\\Windows\\\\system32;C:\\\\Windows;C:\\\\Windows\\\\System32\\\\Wbem;C:\\\\Windows\\\\System32\\\\WindowsPowerShell\\\\v1.0;C:\\\\Windows\\\\System32\\\\OpenSSH;C:\\\\Program Files (x86)\\\\NVIDIA Corporation\\\\PhysX\\\\Common;C:\\\\Windows\\\\system32;C:\\\\Windows;C:\\\\Windows\\\\System32\\\\Wbem;C:\\\\Windows\\\\System32\\\\WindowsPowerShell\\\\v1.0;C:\\\\Windows\\\\System32\\\\OpenSSH;D:\\\\Bandzip\\\\Install\\\\Bandizip;C:\\\\Program Files\\\\NVIDIA Corporation\\\\Nsight Compute 2020.3.0;C:\\\\Program Files\\\\NVIDIA Corporation\\\\NVIDIA NvDLISR;D:\\\\Git2.35.1.2\\\\Install\\\\Git\\\\cmd;D:\\\\v2rayN-Core;C:\\\\Program Files\\\\MySQL\\\\MySQL Shell 8.0\\\\bin;D:\\\\Anaconda3\\\\Install;D:\\\\Anaconda3\\\\Install\\\\Library\\\\mingw-w64\\\\bin;D:\\\\Anaconda3\\\\Install\\\\Library\\\\usr\\\\bin;D:\\\\Anaconda3\\\\Install\\\\Library\\\\bin;D:\\\\Anaconda3\\\\Install\\\\Scripts;C:\\\\Users\\\\11434\\\\AppData\\\\Local\\\\Microsoft\\\\WindowsApps;D:\\\\JetBrains\\\\IDEA2021.3.2\\\\Install\\\\IntelliJ IDEA 2021.3.2\\\\bin;.;D:\\\\JetBrains\\\\PyCharm2021.3.2\\\\Install\\\\PyCharm 2021.3.2\\\\bin;.;D:\\\\VScode\\\\Install\\\\Microsoft VS Code\\\\bin;D:\\\\JetBrains\\\\WebStorm2021.3.2\\\\Install\\\\WebStorm 2021.3.2\\\\bin;.;.;D:\\\\Anaconda3\\\\Install\\\\envs\\\\TF2.3-gpu\\\\lib\\\\site-packages\\\\numpy\\\\.libs;D:\\\\Anaconda3\\\\Install\\\\envs\\\\TF2.3-gpu\\\\lib\\\\site-packages\\\\scipy\\\\.libs',\n",
       "        'PATHEXT': '.COM;.EXE;.BAT;.CMD;.VBS;.VBE;.JS;.JSE;.WSF;.WSH;.MSC',\n",
       "        'PROCESSOR_ARCHITECTURE': 'AMD64',\n",
       "        'PROCESSOR_IDENTIFIER': 'Intel64 Family 6 Model 165 Stepping 2, GenuineIntel',\n",
       "        'PROCESSOR_LEVEL': '6',\n",
       "        'PROCESSOR_REVISION': 'a502',\n",
       "        'PROGRAMDATA': 'C:\\\\ProgramData',\n",
       "        'PROGRAMFILES': 'C:\\\\Program Files',\n",
       "        'PROGRAMFILES(X86)': 'C:\\\\Program Files (x86)',\n",
       "        'PROGRAMW6432': 'C:\\\\Program Files',\n",
       "        'PROMPT': '(TF2.3-gpu) $P$G',\n",
       "        'PSMODULEPATH': 'C:\\\\Program Files\\\\WindowsPowerShell\\\\Modules;C:\\\\Windows\\\\system32\\\\WindowsPowerShell\\\\v1.0\\\\Modules',\n",
       "        'PUBLIC': 'C:\\\\Users\\\\Public',\n",
       "        'PYCHARM': 'D:\\\\JetBrains\\\\PyCharm2021.3.2\\\\Install\\\\PyCharm 2021.3.2\\\\bin;',\n",
       "        'SESSIONNAME': 'Console',\n",
       "        'SYSTEMDRIVE': 'C:',\n",
       "        'SYSTEMROOT': 'C:\\\\Windows',\n",
       "        'TEMP': 'C:\\\\Users\\\\11434\\\\AppData\\\\Local\\\\Temp',\n",
       "        'TMP': 'C:\\\\Users\\\\11434\\\\AppData\\\\Local\\\\Temp',\n",
       "        'USERDOMAIN': 'DESKTOP-667QQQ8',\n",
       "        'USERDOMAIN_ROAMINGPROFILE': 'DESKTOP-667QQQ8',\n",
       "        'USERNAME': '11434',\n",
       "        'USERPROFILE': 'C:\\\\Users\\\\11434',\n",
       "        'WEBSTORM': 'D:\\\\JetBrains\\\\WebStorm2021.3.2\\\\Install\\\\WebStorm 2021.3.2\\\\bin;',\n",
       "        'WINDIR': 'C:\\\\Windows',\n",
       "        'ZES_ENABLE_SYSMAN': '1',\n",
       "        'PYDEVD_USE_FRAME_EVAL': 'NO',\n",
       "        'JPY_INTERRUPT_EVENT': '2748',\n",
       "        'IPY_INTERRUPT_EVENT': '2748',\n",
       "        'JPY_PARENT_PID': '2744',\n",
       "        'TERM': 'xterm-color',\n",
       "        'CLICOLOR': '1',\n",
       "        'PAGER': 'cat',\n",
       "        'GIT_PAGER': 'cat',\n",
       "        'MPLBACKEND': 'module://matplotlib_inline.backend_inline',\n",
       "        'TF2_BEHAVIOR': '1'}"
      ]
     },
     "execution_count": 189,
     "metadata": {},
     "output_type": "execute_result"
    }
   ],
   "source": [
    "os.environ."
   ]
  },
  {
   "cell_type": "code",
   "execution_count": 194,
   "id": "9378c3d3",
   "metadata": {},
   "outputs": [
    {
     "data": {
      "text/plain": [
       "'D:\\\\JupyterNotebook\\\\Deeplearning\\\\0b45f352ae20bdc7eec8fc723632abc7.mp4'"
      ]
     },
     "execution_count": 194,
     "metadata": {},
     "output_type": "execute_result"
    }
   ],
   "source": [
    "os.path.abspath()"
   ]
  },
  {
   "cell_type": "code",
   "execution_count": null,
   "id": "80ef6c39",
   "metadata": {},
   "outputs": [],
   "source": []
  }
 ],
 "metadata": {
  "kernelspec": {
   "display_name": "Python 3 (ipykernel)",
   "language": "python",
   "name": "python3"
  },
  "language_info": {
   "codemirror_mode": {
    "name": "ipython",
    "version": 3
   },
   "file_extension": ".py",
   "mimetype": "text/x-python",
   "name": "python",
   "nbconvert_exporter": "python",
   "pygments_lexer": "ipython3",
   "version": "3.7.11"
  }
 },
 "nbformat": 4,
 "nbformat_minor": 5
}
