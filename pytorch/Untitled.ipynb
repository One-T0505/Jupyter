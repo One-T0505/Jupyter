{
 "cells": [
  {
   "cell_type": "code",
   "execution_count": 46,
   "id": "4635b180",
   "metadata": {},
   "outputs": [],
   "source": [
    "import torch\n",
    "import numpy as np\n",
    "import pandas as pd\n",
    "import matplotlib.pyplot as plt\n",
    "import datetime\n",
    "from sklearn import preprocessing\n",
    "%matplotlib inline"
   ]
  },
  {
   "cell_type": "markdown",
   "id": "58707e7d",
   "metadata": {},
   "source": [
    "### 标量反向传播\n",
    "#### 定义叶子节点及算子节点"
   ]
  },
  {
   "cell_type": "code",
   "execution_count": 2,
   "id": "5afb467b",
   "metadata": {},
   "outputs": [
    {
     "name": "stdout",
     "output_type": "stream",
     "text": [
      "x,w,b的require_grad属性分别为：False,True,True\n"
     ]
    }
   ],
   "source": [
    "#定义输入张量x\n",
    "x=torch.Tensor([2])\n",
    "#初始化权重参数W,偏移量b、并设置require_grad属性为True，为自动求导\n",
    "w=torch.randn(1,requires_grad=True)\n",
    "b=torch.randn(1,requires_grad=True)\n",
    "#实现前向传播\n",
    "y=torch.mul(w,x) #等价于w*x\n",
    "z=torch.add(y,b) #等价于y+b\n",
    "#查看x,w，b页子节点的requite_grad属性\n",
    "print(\"x,w,b的require_grad属性分别为：{},{},{}\".format(x.requires_grad,w.requires_grad,b.requires_grad))"
   ]
  },
  {
   "cell_type": "markdown",
   "id": "9ab3f59a",
   "metadata": {},
   "source": [
    "#### 查看叶子节点、非叶子节点的其他属性"
   ]
  },
  {
   "cell_type": "code",
   "execution_count": 3,
   "id": "dc6a96e8",
   "metadata": {},
   "outputs": [
    {
     "name": "stdout",
     "output_type": "stream",
     "text": [
      "y，z的requires_grad属性分别为：True,True\n",
      "x，w，b，y，z的是否为叶子节点：True,True,True,False,False\n",
      "x，w，b的grad_fn属性：None,None,None\n",
      "y，z的是否为叶子节点：<MulBackward0 object at 0x000001E3124E27C0>,<AddBackward0 object at 0x000001E3124E22B0>\n"
     ]
    }
   ],
   "source": [
    "#查看非叶子节点的requres_grad属性,\n",
    "print(\"y，z的requires_grad属性分别为：{},{}\".format(y.requires_grad,z.requires_grad))\n",
    "#因与w，b有依赖关系，故y，z的requires_grad属性也是：True,True\n",
    "#查看各节点是否为叶子节点\n",
    "print(\"x，w，b，y，z的是否为叶子节点：{},{},{},{},{}\".format(x.is_leaf,w.is_leaf,b.is_leaf,y.is_leaf,z.is_leaf))\n",
    "#x，w，b，y，z的是否为叶子节点：True,True,True,False,False\n",
    "#查看叶子节点的grad_fn属性\n",
    "print(\"x，w，b的grad_fn属性：{},{},{}\".format(x.grad_fn,w.grad_fn,b.grad_fn))\n",
    "#因x，w，b为用户创建的，为通过其他张量计算得到，故x，w，b的grad_fn属性：None,None,None\n",
    "#查看非叶子节点的grad_fn属性\n",
    "print(\"y，z的是否为叶子节点：{},{}\".format(y.grad_fn,z.grad_fn))\n",
    "#y，z的是否为叶子节点：<MulBackward0 object at 0x7f923e85dda0>,<AddBackward0 object at 0x7f923e85d9b0>"
   ]
  },
  {
   "cell_type": "markdown",
   "id": "cec72176",
   "metadata": {},
   "source": [
    "#### 自动求导，实现梯度方向传播，即梯度的反向传播"
   ]
  },
  {
   "cell_type": "code",
   "execution_count": 4,
   "id": "d63c224c",
   "metadata": {},
   "outputs": [
    {
     "name": "stdout",
     "output_type": "stream",
     "text": [
      "参数w,b的梯度分别为:tensor([2.]),tensor([1.]),None\n",
      "非叶子节点y,z的梯度分别为:None,None\n"
     ]
    },
    {
     "name": "stderr",
     "output_type": "stream",
     "text": [
      "D:\\Anaconda3\\Install\\envs\\pytorch\\lib\\site-packages\\torch\\_tensor.py:1104: UserWarning: The .grad attribute of a Tensor that is not a leaf Tensor is being accessed. Its .grad attribute won't be populated during autograd.backward(). If you indeed want the .grad field to be populated for a non-leaf Tensor, use .retain_grad() on the non-leaf Tensor. If you access the non-leaf Tensor by mistake, make sure you access the leaf Tensor instead. See github.com/pytorch/pytorch/pull/30531 for more informations. (Triggered internally at  C:\\cb\\pytorch_1000000000000\\work\\build\\aten\\src\\ATen/core/TensorBody.h:475.)\n",
      "  return self._grad\n"
     ]
    }
   ],
   "source": [
    "#基于z张量进行梯度反向传播,执行backward之后计算图会自动清空，\n",
    "z.backward()\n",
    "#如果需要多次使用backward，需要修改参数retain_graph为True，此时梯度是累加的\n",
    "#z.backward(retain_graph=True)\n",
    "#查看叶子节点的梯度，x是叶子节点但它无须求导，故其梯度为None\n",
    "print(\"参数w,b的梯度分别为:{},{},{}\".format(w.grad,b.grad,x.grad))\n",
    "#参数w,b的梯度分别为:tensor([2.]),tensor([1.]),None\n",
    "#非叶子节点的梯度，执行backward之后，会自动清空\n",
    "print(\"非叶子节点y,z的梯度分别为:{},{}\".format(y.grad,z.grad))\n",
    "#非叶子节点y,z的梯度分别为:None,None"
   ]
  },
  {
   "cell_type": "code",
   "execution_count": 34,
   "id": "b2370252",
   "metadata": {},
   "outputs": [
    {
     "data": {
      "text/html": [
       "<div>\n",
       "<style scoped>\n",
       "    .dataframe tbody tr th:only-of-type {\n",
       "        vertical-align: middle;\n",
       "    }\n",
       "\n",
       "    .dataframe tbody tr th {\n",
       "        vertical-align: top;\n",
       "    }\n",
       "\n",
       "    .dataframe thead th {\n",
       "        text-align: right;\n",
       "    }\n",
       "</style>\n",
       "<table border=\"1\" class=\"dataframe\">\n",
       "  <thead>\n",
       "    <tr style=\"text-align: right;\">\n",
       "      <th></th>\n",
       "      <th>year</th>\n",
       "      <th>month</th>\n",
       "      <th>day</th>\n",
       "      <th>week</th>\n",
       "      <th>temp_2</th>\n",
       "      <th>temp_1</th>\n",
       "      <th>average</th>\n",
       "      <th>actual</th>\n",
       "      <th>friend</th>\n",
       "    </tr>\n",
       "  </thead>\n",
       "  <tbody>\n",
       "    <tr>\n",
       "      <th>0</th>\n",
       "      <td>2016</td>\n",
       "      <td>1</td>\n",
       "      <td>1</td>\n",
       "      <td>Fri</td>\n",
       "      <td>45</td>\n",
       "      <td>45</td>\n",
       "      <td>45.6</td>\n",
       "      <td>45</td>\n",
       "      <td>29</td>\n",
       "    </tr>\n",
       "    <tr>\n",
       "      <th>1</th>\n",
       "      <td>2016</td>\n",
       "      <td>1</td>\n",
       "      <td>2</td>\n",
       "      <td>Sat</td>\n",
       "      <td>44</td>\n",
       "      <td>45</td>\n",
       "      <td>45.7</td>\n",
       "      <td>44</td>\n",
       "      <td>61</td>\n",
       "    </tr>\n",
       "    <tr>\n",
       "      <th>2</th>\n",
       "      <td>2016</td>\n",
       "      <td>1</td>\n",
       "      <td>3</td>\n",
       "      <td>Sun</td>\n",
       "      <td>45</td>\n",
       "      <td>44</td>\n",
       "      <td>45.8</td>\n",
       "      <td>41</td>\n",
       "      <td>56</td>\n",
       "    </tr>\n",
       "    <tr>\n",
       "      <th>3</th>\n",
       "      <td>2016</td>\n",
       "      <td>1</td>\n",
       "      <td>4</td>\n",
       "      <td>Mon</td>\n",
       "      <td>44</td>\n",
       "      <td>41</td>\n",
       "      <td>45.9</td>\n",
       "      <td>40</td>\n",
       "      <td>53</td>\n",
       "    </tr>\n",
       "    <tr>\n",
       "      <th>4</th>\n",
       "      <td>2016</td>\n",
       "      <td>1</td>\n",
       "      <td>5</td>\n",
       "      <td>Tues</td>\n",
       "      <td>41</td>\n",
       "      <td>40</td>\n",
       "      <td>46.0</td>\n",
       "      <td>44</td>\n",
       "      <td>41</td>\n",
       "    </tr>\n",
       "  </tbody>\n",
       "</table>\n",
       "</div>"
      ],
      "text/plain": [
       "   year  month  day  week  temp_2  temp_1  average  actual  friend\n",
       "0  2016      1    1   Fri      45      45     45.6      45      29\n",
       "1  2016      1    2   Sat      44      45     45.7      44      61\n",
       "2  2016      1    3   Sun      45      44     45.8      41      56\n",
       "3  2016      1    4   Mon      44      41     45.9      40      53\n",
       "4  2016      1    5  Tues      41      40     46.0      44      41"
      ]
     },
     "execution_count": 34,
     "metadata": {},
     "output_type": "execute_result"
    }
   ],
   "source": [
    "df = pd.read_csv(\"../../YMY/gupao/4-2/temps.csv\")\n",
    "df.head()"
   ]
  },
  {
   "cell_type": "code",
   "execution_count": 35,
   "id": "52a4683a",
   "metadata": {},
   "outputs": [
    {
     "name": "stdout",
     "output_type": "stream",
     "text": [
      "(348, 9)\n",
      "         year       month         day      temp_2      temp_1     average  \\\n",
      "count   348.0  348.000000  348.000000  348.000000  348.000000  348.000000   \n",
      "mean   2016.0    6.477011   15.514368   62.511494   62.560345   59.760632   \n",
      "std       0.0    3.498380    8.772982   11.813019   11.767406   10.527306   \n",
      "min    2016.0    1.000000    1.000000   35.000000   35.000000   45.100000   \n",
      "25%    2016.0    3.000000    8.000000   54.000000   54.000000   49.975000   \n",
      "50%    2016.0    6.000000   15.000000   62.500000   62.500000   58.200000   \n",
      "75%    2016.0   10.000000   23.000000   71.000000   71.000000   69.025000   \n",
      "max    2016.0   12.000000   31.000000   92.000000   92.000000   77.400000   \n",
      "\n",
      "           actual      friend  \n",
      "count  348.000000  348.000000  \n",
      "mean    62.543103   60.034483  \n",
      "std     11.794146   15.626179  \n",
      "min     35.000000   28.000000  \n",
      "25%     54.000000   47.750000  \n",
      "50%     62.500000   60.000000  \n",
      "75%     71.000000   71.000000  \n",
      "max     92.000000   95.000000  \n",
      "<class 'pandas.core.frame.DataFrame'>\n",
      "RangeIndex: 348 entries, 0 to 347\n",
      "Data columns (total 9 columns):\n",
      " #   Column   Non-Null Count  Dtype  \n",
      "---  ------   --------------  -----  \n",
      " 0   year     348 non-null    int64  \n",
      " 1   month    348 non-null    int64  \n",
      " 2   day      348 non-null    int64  \n",
      " 3   week     348 non-null    object \n",
      " 4   temp_2   348 non-null    int64  \n",
      " 5   temp_1   348 non-null    int64  \n",
      " 6   average  348 non-null    float64\n",
      " 7   actual   348 non-null    int64  \n",
      " 8   friend   348 non-null    int64  \n",
      "dtypes: float64(1), int64(7), object(1)\n",
      "memory usage: 24.6+ KB\n",
      "None\n"
     ]
    }
   ],
   "source": [
    "print(df.shape)\n",
    "print(df.describe())\n",
    "print(df.info())"
   ]
  },
  {
   "cell_type": "code",
   "execution_count": 36,
   "id": "8b8f65c6",
   "metadata": {},
   "outputs": [
    {
     "data": {
      "text/plain": [
       "(31, 9)"
      ]
     },
     "execution_count": 36,
     "metadata": {},
     "output_type": "execute_result"
    }
   ],
   "source": [
    "df[df[\"month\"]==12].shape"
   ]
  },
  {
   "cell_type": "code",
   "execution_count": 37,
   "id": "02a56e2c",
   "metadata": {},
   "outputs": [
    {
     "data": {
      "text/plain": [
       "array([[<AxesSubplot:title={'center':'year'}>,\n",
       "        <AxesSubplot:title={'center':'month'}>,\n",
       "        <AxesSubplot:title={'center':'day'}>],\n",
       "       [<AxesSubplot:title={'center':'temp_2'}>,\n",
       "        <AxesSubplot:title={'center':'temp_1'}>,\n",
       "        <AxesSubplot:title={'center':'average'}>],\n",
       "       [<AxesSubplot:title={'center':'actual'}>,\n",
       "        <AxesSubplot:title={'center':'friend'}>, <AxesSubplot:>]],\n",
       "      dtype=object)"
      ]
     },
     "execution_count": 37,
     "metadata": {},
     "output_type": "execute_result"
    },
    {
     "data": {
      "image/png": "[encoded data removed]",
      "text/plain": [
       "<Figure size 1152x720 with 9 Axes>"
      ]
     },
     "metadata": {
      "needs_background": "light"
     },
     "output_type": "display_data"
    }
   ],
   "source": [
    "df.hist(bins=50, figsize=(16, 10))"
   ]
  },
  {
   "cell_type": "code",
   "execution_count": 38,
   "id": "f3c3a33e",
   "metadata": {},
   "outputs": [
    {
     "data": {
      "text/plain": [
       "[datetime.datetime(2016, 1, 1, 0, 0),\n",
       " datetime.datetime(2016, 1, 2, 0, 0),\n",
       " datetime.datetime(2016, 1, 3, 0, 0),\n",
       " datetime.datetime(2016, 1, 4, 0, 0),\n",
       " datetime.datetime(2016, 1, 5, 0, 0)]"
      ]
     },
     "execution_count": 38,
     "metadata": {},
     "output_type": "execute_result"
    }
   ],
   "source": [
    "years = df.year\n",
    "months = df.month\n",
    "days = df.day\n",
    "dates = [str(int(year)) + \"-\" + str(int(month)) + \"-\" + str(int(day)) for year, month, day in zip(years, months, days)]\n",
    "dates = [datetime.datetime.strptime(date, \"%Y-%m-%d\") for date in dates]\n",
    "dates[:5]"
   ]
  },
  {
   "cell_type": "code",
   "execution_count": 39,
   "id": "8ae8e66e",
   "metadata": {},
   "outputs": [
    {
     "data": {
      "text/html": [
       "<div>\n",
       "<style scoped>\n",
       "    .dataframe tbody tr th:only-of-type {\n",
       "        vertical-align: middle;\n",
       "    }\n",
       "\n",
       "    .dataframe tbody tr th {\n",
       "        vertical-align: top;\n",
       "    }\n",
       "\n",
       "    .dataframe thead th {\n",
       "        text-align: right;\n",
       "    }\n",
       "</style>\n",
       "<table border=\"1\" class=\"dataframe\">\n",
       "  <thead>\n",
       "    <tr style=\"text-align: right;\">\n",
       "      <th></th>\n",
       "      <th>year</th>\n",
       "      <th>month</th>\n",
       "      <th>day</th>\n",
       "      <th>temp_2</th>\n",
       "      <th>temp_1</th>\n",
       "      <th>average</th>\n",
       "      <th>actual</th>\n",
       "      <th>friend</th>\n",
       "      <th>week_Fri</th>\n",
       "      <th>week_Mon</th>\n",
       "      <th>week_Sat</th>\n",
       "      <th>week_Sun</th>\n",
       "      <th>week_Thurs</th>\n",
       "      <th>week_Tues</th>\n",
       "      <th>week_Wed</th>\n",
       "    </tr>\n",
       "  </thead>\n",
       "  <tbody>\n",
       "    <tr>\n",
       "      <th>0</th>\n",
       "      <td>2016</td>\n",
       "      <td>1</td>\n",
       "      <td>1</td>\n",
       "      <td>45</td>\n",
       "      <td>45</td>\n",
       "      <td>45.6</td>\n",
       "      <td>45</td>\n",
       "      <td>29</td>\n",
       "      <td>1</td>\n",
       "      <td>0</td>\n",
       "      <td>0</td>\n",
       "      <td>0</td>\n",
       "      <td>0</td>\n",
       "      <td>0</td>\n",
       "      <td>0</td>\n",
       "    </tr>\n",
       "    <tr>\n",
       "      <th>1</th>\n",
       "      <td>2016</td>\n",
       "      <td>1</td>\n",
       "      <td>2</td>\n",
       "      <td>44</td>\n",
       "      <td>45</td>\n",
       "      <td>45.7</td>\n",
       "      <td>44</td>\n",
       "      <td>61</td>\n",
       "      <td>0</td>\n",
       "      <td>0</td>\n",
       "      <td>1</td>\n",
       "      <td>0</td>\n",
       "      <td>0</td>\n",
       "      <td>0</td>\n",
       "      <td>0</td>\n",
       "    </tr>\n",
       "    <tr>\n",
       "      <th>2</th>\n",
       "      <td>2016</td>\n",
       "      <td>1</td>\n",
       "      <td>3</td>\n",
       "      <td>45</td>\n",
       "      <td>44</td>\n",
       "      <td>45.8</td>\n",
       "      <td>41</td>\n",
       "      <td>56</td>\n",
       "      <td>0</td>\n",
       "      <td>0</td>\n",
       "      <td>0</td>\n",
       "      <td>1</td>\n",
       "      <td>0</td>\n",
       "      <td>0</td>\n",
       "      <td>0</td>\n",
       "    </tr>\n",
       "    <tr>\n",
       "      <th>3</th>\n",
       "      <td>2016</td>\n",
       "      <td>1</td>\n",
       "      <td>4</td>\n",
       "      <td>44</td>\n",
       "      <td>41</td>\n",
       "      <td>45.9</td>\n",
       "      <td>40</td>\n",
       "      <td>53</td>\n",
       "      <td>0</td>\n",
       "      <td>1</td>\n",
       "      <td>0</td>\n",
       "      <td>0</td>\n",
       "      <td>0</td>\n",
       "      <td>0</td>\n",
       "      <td>0</td>\n",
       "    </tr>\n",
       "    <tr>\n",
       "      <th>4</th>\n",
       "      <td>2016</td>\n",
       "      <td>1</td>\n",
       "      <td>5</td>\n",
       "      <td>41</td>\n",
       "      <td>40</td>\n",
       "      <td>46.0</td>\n",
       "      <td>44</td>\n",
       "      <td>41</td>\n",
       "      <td>0</td>\n",
       "      <td>0</td>\n",
       "      <td>0</td>\n",
       "      <td>0</td>\n",
       "      <td>0</td>\n",
       "      <td>1</td>\n",
       "      <td>0</td>\n",
       "    </tr>\n",
       "  </tbody>\n",
       "</table>\n",
       "</div>"
      ],
      "text/plain": [
       "   year  month  day  temp_2  temp_1  average  actual  friend  week_Fri  \\\n",
       "0  2016      1    1      45      45     45.6      45      29         1   \n",
       "1  2016      1    2      44      45     45.7      44      61         0   \n",
       "2  2016      1    3      45      44     45.8      41      56         0   \n",
       "3  2016      1    4      44      41     45.9      40      53         0   \n",
       "4  2016      1    5      41      40     46.0      44      41         0   \n",
       "\n",
       "   week_Mon  week_Sat  week_Sun  week_Thurs  week_Tues  week_Wed  \n",
       "0         0         0         0           0          0         0  \n",
       "1         0         1         0           0          0         0  \n",
       "2         0         0         1           0          0         0  \n",
       "3         1         0         0           0          0         0  \n",
       "4         0         0         0           0          1         0  "
      ]
     },
     "execution_count": 39,
     "metadata": {},
     "output_type": "execute_result"
    }
   ],
   "source": [
    "df = pd.get_dummies(df)\n",
    "df.head()"
   ]
  },
  {
   "cell_type": "code",
   "execution_count": 40,
   "id": "70f89775",
   "metadata": {},
   "outputs": [],
   "source": [
    "targets = df[\"actual\"]\n",
    "df.drop(\"actual\", axis=1, inplace=True)"
   ]
  },
  {
   "cell_type": "code",
   "execution_count": 41,
   "id": "4b7faf09",
   "metadata": {},
   "outputs": [
    {
     "data": {
      "text/plain": [
       "Index(['year', 'month', 'day', 'temp_2', 'temp_1', 'average', 'friend',\n",
       "       'week_Fri', 'week_Mon', 'week_Sat', 'week_Sun', 'week_Thurs',\n",
       "       'week_Tues', 'week_Wed'],\n",
       "      dtype='object')"
      ]
     },
     "execution_count": 41,
     "metadata": {},
     "output_type": "execute_result"
    }
   ],
   "source": [
    "column_list = df.columns\n",
    "column_list"
   ]
  },
  {
   "cell_type": "code",
   "execution_count": 42,
   "id": "216c29a7",
   "metadata": {},
   "outputs": [
    {
     "data": {
      "text/html": [
       "<div>\n",
       "<style scoped>\n",
       "    .dataframe tbody tr th:only-of-type {\n",
       "        vertical-align: middle;\n",
       "    }\n",
       "\n",
       "    .dataframe tbody tr th {\n",
       "        vertical-align: top;\n",
       "    }\n",
       "\n",
       "    .dataframe thead th {\n",
       "        text-align: right;\n",
       "    }\n",
       "</style>\n",
       "<table border=\"1\" class=\"dataframe\">\n",
       "  <thead>\n",
       "    <tr style=\"text-align: right;\">\n",
       "      <th></th>\n",
       "      <th>year</th>\n",
       "      <th>month</th>\n",
       "      <th>day</th>\n",
       "      <th>temp_2</th>\n",
       "      <th>temp_1</th>\n",
       "      <th>average</th>\n",
       "      <th>friend</th>\n",
       "      <th>week_Fri</th>\n",
       "      <th>week_Mon</th>\n",
       "      <th>week_Sat</th>\n",
       "      <th>week_Sun</th>\n",
       "      <th>week_Thurs</th>\n",
       "      <th>week_Tues</th>\n",
       "      <th>week_Wed</th>\n",
       "    </tr>\n",
       "  </thead>\n",
       "  <tbody>\n",
       "    <tr>\n",
       "      <th>0</th>\n",
       "      <td>2016</td>\n",
       "      <td>1</td>\n",
       "      <td>1</td>\n",
       "      <td>45</td>\n",
       "      <td>45</td>\n",
       "      <td>45.6</td>\n",
       "      <td>29</td>\n",
       "      <td>1</td>\n",
       "      <td>0</td>\n",
       "      <td>0</td>\n",
       "      <td>0</td>\n",
       "      <td>0</td>\n",
       "      <td>0</td>\n",
       "      <td>0</td>\n",
       "    </tr>\n",
       "    <tr>\n",
       "      <th>1</th>\n",
       "      <td>2016</td>\n",
       "      <td>1</td>\n",
       "      <td>2</td>\n",
       "      <td>44</td>\n",
       "      <td>45</td>\n",
       "      <td>45.7</td>\n",
       "      <td>61</td>\n",
       "      <td>0</td>\n",
       "      <td>0</td>\n",
       "      <td>1</td>\n",
       "      <td>0</td>\n",
       "      <td>0</td>\n",
       "      <td>0</td>\n",
       "      <td>0</td>\n",
       "    </tr>\n",
       "    <tr>\n",
       "      <th>2</th>\n",
       "      <td>2016</td>\n",
       "      <td>1</td>\n",
       "      <td>3</td>\n",
       "      <td>45</td>\n",
       "      <td>44</td>\n",
       "      <td>45.8</td>\n",
       "      <td>56</td>\n",
       "      <td>0</td>\n",
       "      <td>0</td>\n",
       "      <td>0</td>\n",
       "      <td>1</td>\n",
       "      <td>0</td>\n",
       "      <td>0</td>\n",
       "      <td>0</td>\n",
       "    </tr>\n",
       "    <tr>\n",
       "      <th>3</th>\n",
       "      <td>2016</td>\n",
       "      <td>1</td>\n",
       "      <td>4</td>\n",
       "      <td>44</td>\n",
       "      <td>41</td>\n",
       "      <td>45.9</td>\n",
       "      <td>53</td>\n",
       "      <td>0</td>\n",
       "      <td>1</td>\n",
       "      <td>0</td>\n",
       "      <td>0</td>\n",
       "      <td>0</td>\n",
       "      <td>0</td>\n",
       "      <td>0</td>\n",
       "    </tr>\n",
       "    <tr>\n",
       "      <th>4</th>\n",
       "      <td>2016</td>\n",
       "      <td>1</td>\n",
       "      <td>5</td>\n",
       "      <td>41</td>\n",
       "      <td>40</td>\n",
       "      <td>46.0</td>\n",
       "      <td>41</td>\n",
       "      <td>0</td>\n",
       "      <td>0</td>\n",
       "      <td>0</td>\n",
       "      <td>0</td>\n",
       "      <td>0</td>\n",
       "      <td>1</td>\n",
       "      <td>0</td>\n",
       "    </tr>\n",
       "  </tbody>\n",
       "</table>\n",
       "</div>"
      ],
      "text/plain": [
       "   year  month  day  temp_2  temp_1  average  friend  week_Fri  week_Mon  \\\n",
       "0  2016      1    1      45      45     45.6      29         1         0   \n",
       "1  2016      1    2      44      45     45.7      61         0         0   \n",
       "2  2016      1    3      45      44     45.8      56         0         0   \n",
       "3  2016      1    4      44      41     45.9      53         0         1   \n",
       "4  2016      1    5      41      40     46.0      41         0         0   \n",
       "\n",
       "   week_Sat  week_Sun  week_Thurs  week_Tues  week_Wed  \n",
       "0         0         0           0          0         0  \n",
       "1         1         0           0          0         0  \n",
       "2         0         1           0          0         0  \n",
       "3         0         0           0          0         0  \n",
       "4         0         0           0          1         0  "
      ]
     },
     "execution_count": 42,
     "metadata": {},
     "output_type": "execute_result"
    }
   ],
   "source": [
    "df.head()"
   ]
  },
  {
   "cell_type": "code",
   "execution_count": 43,
   "id": "b8629653",
   "metadata": {},
   "outputs": [
    {
     "data": {
      "text/plain": [
       "array([[ 0.        , -1.5678393 , -1.65682171, -1.48452388, -1.49443549,\n",
       "        -1.3470703 , -1.98891668,  2.44131112, -0.40482045, -0.40961596,\n",
       "        -0.40482045, -0.40482045, -0.41913682, -0.40482045],\n",
       "       [ 0.        , -1.5678393 , -1.54267126, -1.56929813, -1.49443549,\n",
       "        -1.33755752,  0.06187741, -0.40961596, -0.40482045,  2.44131112,\n",
       "        -0.40482045, -0.40482045, -0.41913682, -0.40482045],\n",
       "       [ 0.        , -1.5678393 , -1.4285208 , -1.48452388, -1.57953835,\n",
       "        -1.32804474, -0.25855917, -0.40961596, -0.40482045, -0.40961596,\n",
       "         2.47023092, -0.40482045, -0.41913682, -0.40482045],\n",
       "       [ 0.        , -1.5678393 , -1.31437034, -1.56929813, -1.83484692,\n",
       "        -1.31853195, -0.45082111, -0.40961596,  2.47023092, -0.40961596,\n",
       "        -0.40482045, -0.40482045, -0.41913682, -0.40482045],\n",
       "       [ 0.        , -1.5678393 , -1.20021989, -1.8236209 , -1.91994977,\n",
       "        -1.30901917, -1.2198689 , -0.40961596, -0.40482045, -0.40961596,\n",
       "        -0.40482045, -0.40482045,  2.38585576, -0.40482045]])"
      ]
     },
     "execution_count": 43,
     "metadata": {},
     "output_type": "execute_result"
    }
   ],
   "source": [
    "# 标准化后，df就从DataFrame变为了 ndarray\n",
    "df = preprocessing.StandardScaler().fit_transform(df)\n",
    "df[:5]"
   ]
  },
  {
   "cell_type": "markdown",
   "id": "443768dc",
   "metadata": {},
   "source": [
    "### 用pytorch构建网络模型"
   ]
  },
  {
   "cell_type": "markdown",
   "id": "0674d019",
   "metadata": {},
   "source": [
    "将ndaaray转化为tensor"
   ]
  },
  {
   "cell_type": "code",
   "execution_count": 44,
   "id": "b936cc08",
   "metadata": {},
   "outputs": [],
   "source": [
    "x = torch.tensor(df, dtype=torch.float32)\n",
    "y = torch.tensor(targets, dtype=torch.float32)"
   ]
  },
  {
   "cell_type": "markdown",
   "id": "41ef0f48",
   "metadata": {},
   "source": [
    "随机初始化权重，偏置"
   ]
  },
  {
   "cell_type": "code",
   "execution_count": 16,
   "id": "c300d574",
   "metadata": {},
   "outputs": [
    {
     "name": "stdout",
     "output_type": "stream",
     "text": [
      "<class 'torch.Tensor'>\n",
      "tensor(2542.8325, grad_fn=<MeanBackward0>)\n",
      "<class 'torch.Tensor'>\n",
      "tensor(150.3874, grad_fn=<MeanBackward0>)\n",
      "<class 'torch.Tensor'>\n",
      "tensor(144.8965, grad_fn=<MeanBackward0>)\n",
      "<class 'torch.Tensor'>\n",
      "tensor(143.2108, grad_fn=<MeanBackward0>)\n",
      "<class 'torch.Tensor'>\n",
      "tensor(142.2827, grad_fn=<MeanBackward0>)\n",
      "<class 'torch.Tensor'>\n",
      "tensor(141.6833, grad_fn=<MeanBackward0>)\n",
      "<class 'torch.Tensor'>\n",
      "tensor(141.2630, grad_fn=<MeanBackward0>)\n",
      "<class 'torch.Tensor'>\n",
      "tensor(140.9467, grad_fn=<MeanBackward0>)\n",
      "<class 'torch.Tensor'>\n"
     ]
    },
    {
     "name": "stderr",
     "output_type": "stream",
     "text": [
      "No artists with labels found to put in legend.  Note that artists whose label start with an underscore are ignored when legend() is called with no argument.\n"
     ]
    },
    {
     "name": "stdout",
     "output_type": "stream",
     "text": [
      "tensor(140.6963, grad_fn=<MeanBackward0>)\n",
      "<class 'torch.Tensor'>\n",
      "tensor(140.4932, grad_fn=<MeanBackward0>)\n"
     ]
    },
    {
     "data": {
      "text/plain": [
       "<matplotlib.legend.Legend at 0x1e32433f910>"
      ]
     },
     "execution_count": 16,
     "metadata": {},
     "output_type": "execute_result"
    },
    {
     "data": {
      "image/png": "[encoded data removed]",
      "text/plain": [
       "<Figure size 1000x800 with 1 Axes>"
      ]
     },
     "metadata": {
      "needs_background": "light"
     },
     "output_type": "display_data"
    }
   ],
   "source": [
    "weights_1 = torch.randn((14, 128), dtype=torch.float32, requires_grad=True)\n",
    "bias_1 = torch.randn(128, dtype=torch.float32, requires_grad=True)\n",
    "weights_2 = torch.randn((128, 1), dtype=torch.float32, requires_grad=True)\n",
    "bias_2 = torch.randn(1, dtype=torch.float32, requires_grad=True)\n",
    "\n",
    "lr = 0.001\n",
    "losses = []\n",
    "\n",
    "for epoch in range(1000):\n",
    "    h1 = x.matmul(weights_1) + bias_1\n",
    "    z1 = torch.relu(h1)\n",
    "    pred = z1.matmul(weights_2) + bias_2\n",
    "    \n",
    "    # 计算损失\n",
    "    loss = torch.mean((pred - y)**2)\n",
    "    losses.append(loss.data.numpy())\n",
    "    \n",
    "    if epoch%100==0:\n",
    "        print(type(loss))\n",
    "        print(loss)\n",
    "    loss.backward()\n",
    "    \n",
    "    # 更新参数\n",
    "    weights_1.data.add_(-lr*weights_1.grad.data)\n",
    "    bias_1.data.add_(-lr*bias_1.grad.data)\n",
    "    weights_2.data.add_(-lr*weights_2.grad.data)\n",
    "    bias_2.data.add_(-lr*bias_2.grad.data)\n",
    "    \n",
    "    # 每次迭代后清空梯度参数列表\n",
    "    weights_1.grad.data.zero_()\n",
    "    bias_1.grad.data.zero_()\n",
    "    weights_2.grad.data.zero_()\n",
    "    bias_2.grad.data.zero_()\n",
    "    \n",
    "# 损失函数可视化\n",
    "plt.figure(figsize=(10, 8), dpi=100)\n",
    "plt.plot(range(1000), losses)\n",
    "plt.legend()"
   ]
  },
  {
   "cell_type": "markdown",
   "id": "80552673",
   "metadata": {},
   "source": [
    "##### 用简单的方法构造网络"
   ]
  },
  {
   "cell_type": "code",
   "execution_count": 17,
   "id": "db34d43b",
   "metadata": {},
   "outputs": [],
   "source": [
    "batch = 16\n",
    "input_size = df.shape[1]\n",
    "hidden_size = 128\n",
    "cost = torch.nn.MSELoss(reduction=\"mean\")\n",
    "\n",
    "model = torch.nn.Sequential(\n",
    "    torch.nn.Linear(input_size, hidden_size),\n",
    "    torch.nn.Sigmoid(),\n",
    "    torch.nn.Linear(hidden_size, 1)\n",
    ")\n",
    "\n",
    "optim = torch.optim.Adam(model.parameters(), lr=0.01)"
   ]
  },
  {
   "cell_type": "code",
   "execution_count": 47,
   "id": "d8bd05c3",
   "metadata": {},
   "outputs": [
    {
     "name": "stderr",
     "output_type": "stream",
     "text": [
      "C:\\Users\\11434\\AppData\\Local\\Temp\\ipykernel_22876\\1867421881.py:5: UserWarning: To copy construct from a tensor, it is recommended to use sourceTensor.clone().detach() or sourceTensor.clone().detach().requires_grad_(True), rather than torch.tensor(sourceTensor).\n",
      "  xx = torch.tensor(x[start:end], dtype=torch.float32, requires_grad=True)\n",
      "C:\\Users\\11434\\AppData\\Local\\Temp\\ipykernel_22876\\1867421881.py:6: UserWarning: To copy construct from a tensor, it is recommended to use sourceTensor.clone().detach() or sourceTensor.clone().detach().requires_grad_(True), rather than torch.tensor(sourceTensor).\n",
      "  yy = torch.tensor(y[start:end], dtype=torch.float32, requires_grad=True)\n",
      "D:\\Anaconda3\\Install\\envs\\pytorch\\lib\\site-packages\\torch\\nn\\modules\\loss.py:529: UserWarning: Using a target size (torch.Size([16])) that is different to the input size (torch.Size([16, 1])). This will likely lead to incorrect results due to broadcasting. Please ensure they have the same size.\n",
      "  return F.mse_loss(input, target, reduction=self.reduction)\n",
      "D:\\Anaconda3\\Install\\envs\\pytorch\\lib\\site-packages\\torch\\nn\\modules\\loss.py:529: UserWarning: Using a target size (torch.Size([12])) that is different to the input size (torch.Size([12, 1])). This will likely lead to incorrect results due to broadcasting. Please ensure they have the same size.\n",
      "  return F.mse_loss(input, target, reduction=self.reduction)\n"
     ]
    },
    {
     "name": "stdout",
     "output_type": "stream",
     "text": [
      "0 1383.4325\n",
      "100 4832.848\n",
      "200 3846.8076\n",
      "300 4352.6997\n",
      "400 677.3686\n",
      "500 2517.5315\n",
      "600 2469.9897\n",
      "700 1123.7731\n",
      "800 1993.1672\n",
      "900 981.0895\n"
     ]
    }
   ],
   "source": [
    "for epoch in range(1000):\n",
    "    batch_loss = []\n",
    "    for start in range(0, len(x), batch):\n",
    "        end = start + batch    if start + batch <len(x)  else len(x)\n",
    "        xx = torch.tensor(x[start:end], dtype=torch.float32, requires_grad=True)\n",
    "        yy = torch.tensor(y[start:end], dtype=torch.float32, requires_grad=True)\n",
    "        \n",
    "        pred = model(xx)\n",
    "        loss = cost(pred, yy)\n",
    "        loss.backward(retain_graph=True)\n",
    "        optim.step()\n",
    "        batch_loss.append(loss.data.numpy())\n",
    "    \n",
    "        # 打印损失\n",
    "    if epoch % 100==0:\n",
    "        losses.append(np.mean(batch_loss))\n",
    "        print(epoch, np.mean(batch_loss))\n",
    "        \n",
    "        "
   ]
  },
  {
   "cell_type": "code",
   "execution_count": 48,
   "id": "995e53de",
   "metadata": {},
   "outputs": [],
   "source": [
    "import torchvision"
   ]
  },
  {
   "cell_type": "code",
   "execution_count": null,
   "id": "70c68a03",
   "metadata": {},
   "outputs": [],
   "source": []
  }
 ],
 "metadata": {
  "kernelspec": {
   "display_name": "Python 3 (ipykernel)",
   "language": "python",
   "name": "python3"
  },
  "language_info": {
   "codemirror_mode": {
    "name": "ipython",
    "version": 3
   },
   "file_extension": ".py",
   "mimetype": "text/x-python",
   "name": "python",
   "nbconvert_exporter": "python",
   "pygments_lexer": "ipython3",
   "version": "3.8.13"
  }
 },
 "nbformat": 4,
 "nbformat_minor": 5
}
