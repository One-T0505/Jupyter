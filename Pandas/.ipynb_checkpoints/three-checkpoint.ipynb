{
 "cells": [
  {
   "cell_type": "markdown",
   "id": "75477822",
   "metadata": {},
   "source": [
    "# 对象的增删改查"
   ]
  },
  {
   "cell_type": "code",
   "execution_count": 2,
   "id": "c7975dc1",
   "metadata": {},
   "outputs": [],
   "source": [
    "import pandas as pd\n",
    "import numpy as np"
   ]
  },
  {
   "cell_type": "markdown",
   "id": "b9607936",
   "metadata": {},
   "source": [
    "###### 手动方法构造Series"
   ]
  },
  {
   "cell_type": "code",
   "execution_count": 4,
   "id": "7ba06c20",
   "metadata": {},
   "outputs": [],
   "source": [
    "data = np.arange(10)\n",
    "index = ['a', 'b', 'c', 'd', 'e', 'f', 'g', 'h', 'i', 'j']\n",
    "s = pd.Series(data, index)"
   ]
  },
  {
   "cell_type": "code",
   "execution_count": 5,
   "id": "16924634",
   "metadata": {},
   "outputs": [
    {
     "data": {
      "text/plain": [
       "a    0\n",
       "b    1\n",
       "c    2\n",
       "d    3\n",
       "e    4\n",
       "f    5\n",
       "g    6\n",
       "h    7\n",
       "i    8\n",
       "j    9\n",
       "dtype: int32"
      ]
     },
     "execution_count": 5,
     "metadata": {},
     "output_type": "execute_result"
    }
   ],
   "source": [
    "s"
   ]
  },
  {
   "cell_type": "markdown",
   "id": "10bdba1f",
   "metadata": {},
   "source": [
    "### 查询"
   ]
  },
  {
   "cell_type": "code",
   "execution_count": 6,
   "id": "23255b26",
   "metadata": {},
   "outputs": [
    {
     "data": {
      "text/plain": [
       "2"
      ]
     },
     "execution_count": 6,
     "metadata": {},
     "output_type": "execute_result"
    }
   ],
   "source": [
    "s[2]"
   ]
  },
  {
   "cell_type": "code",
   "execution_count": 7,
   "id": "734a8e2c",
   "metadata": {},
   "outputs": [
    {
     "data": {
      "text/plain": [
       "a    0\n",
       "b    1\n",
       "c    2\n",
       "d    3\n",
       "e    4\n",
       "dtype: int32"
      ]
     },
     "execution_count": 7,
     "metadata": {},
     "output_type": "execute_result"
    }
   ],
   "source": [
    "s[:5]"
   ]
  },
  {
   "cell_type": "code",
   "execution_count": 8,
   "id": "e55618f5",
   "metadata": {},
   "outputs": [
    {
     "data": {
      "text/plain": [
       "c    2\n",
       "f    5\n",
       "j    9\n",
       "dtype: int32"
      ]
     },
     "execution_count": 8,
     "metadata": {},
     "output_type": "execute_result"
    }
   ],
   "source": [
    "s[[2, 5, 9]]"
   ]
  },
  {
   "cell_type": "code",
   "execution_count": 9,
   "id": "4bbbbf7b",
   "metadata": {},
   "outputs": [
    {
     "data": {
      "text/plain": [
       "a    0\n",
       "e    4\n",
       "j    9\n",
       "dtype: int32"
      ]
     },
     "execution_count": 9,
     "metadata": {},
     "output_type": "execute_result"
    }
   ],
   "source": [
    "mask = [True, False, False, False, True, False, False, False, False, True]\n",
    "s[mask]"
   ]
  },
  {
   "cell_type": "code",
   "execution_count": 10,
   "id": "4534ef92",
   "metadata": {},
   "outputs": [
    {
     "data": {
      "text/plain": [
       "2"
      ]
     },
     "execution_count": 10,
     "metadata": {},
     "output_type": "execute_result"
    }
   ],
   "source": [
    "s.loc['c']      # loc 根据 label 进行索引"
   ]
  },
  {
   "cell_type": "code",
   "execution_count": 12,
   "id": "12b405db",
   "metadata": {},
   "outputs": [
    {
     "data": {
      "text/plain": [
       "0"
      ]
     },
     "execution_count": 12,
     "metadata": {},
     "output_type": "execute_result"
    }
   ],
   "source": [
    "s.iloc[0]       # iloc 根据 index 进行索引"
   ]
  },
  {
   "cell_type": "markdown",
   "id": "a05ffe41",
   "metadata": {},
   "source": [
    "### 修改"
   ]
  },
  {
   "cell_type": "code",
   "execution_count": 13,
   "id": "b5edc7de",
   "metadata": {},
   "outputs": [],
   "source": [
    "s1 = s.copy()"
   ]
  },
  {
   "cell_type": "markdown",
   "id": "2255b092",
   "metadata": {},
   "source": [
    "#### 1. 直接赋值"
   ]
  },
  {
   "cell_type": "code",
   "execution_count": 16,
   "id": "b61f3e7a",
   "metadata": {},
   "outputs": [
    {
     "data": {
      "text/plain": [
       "100"
      ]
     },
     "execution_count": 16,
     "metadata": {},
     "output_type": "execute_result"
    }
   ],
   "source": [
    "s1[2] = 100     # 直接赋值\n",
    "s1[2]"
   ]
  },
  {
   "cell_type": "markdown",
   "id": "d2c7bddc",
   "metadata": {},
   "source": [
    "#### 2. replace"
   ]
  },
  {
   "cell_type": "code",
   "execution_count": 19,
   "id": "bd07d429",
   "metadata": {},
   "outputs": [
    {
     "data": {
      "text/plain": [
       "a      0\n",
       "b      1\n",
       "c    101\n",
       "d      3\n",
       "e      4\n",
       "f      5\n",
       "g      6\n",
       "h      7\n",
       "i      8\n",
       "j      9\n",
       "dtype: int32"
      ]
     },
     "execution_count": 19,
     "metadata": {},
     "output_type": "execute_result"
    }
   ],
   "source": [
    "s1.replace(to_replace=100, value=101 )    # to_replace 表示要被修改的值  value 表示修改为多少"
   ]
  },
  {
   "cell_type": "code",
   "execution_count": 24,
   "id": "803ec160",
   "metadata": {},
   "outputs": [
    {
     "data": {
      "text/plain": [
       "p      0\n",
       "q      1\n",
       "x    100\n",
       "y      3\n",
       "z      4\n",
       "m      5\n",
       "n      6\n",
       "u      7\n",
       "s      8\n",
       "t      9\n",
       "dtype: int32"
      ]
     },
     "execution_count": 24,
     "metadata": {},
     "output_type": "execute_result"
    }
   ],
   "source": [
    "s1 "
   ]
  },
  {
   "cell_type": "markdown",
   "id": "b7ab4e66",
   "metadata": {},
   "source": [
    "#### 3.修改索引"
   ]
  },
  {
   "cell_type": "code",
   "execution_count": 21,
   "id": "39fc5e60",
   "metadata": {},
   "outputs": [
    {
     "data": {
      "text/plain": [
       "p      0\n",
       "q      1\n",
       "x    100\n",
       "y      3\n",
       "z      4\n",
       "m      5\n",
       "n      6\n",
       "u      7\n",
       "s      8\n",
       "t      9\n",
       "dtype: int32"
      ]
     },
     "execution_count": 21,
     "metadata": {},
     "output_type": "execute_result"
    }
   ],
   "source": [
    "s1.index = ['p', 'q', 'x', 'y', 'z', 'm', 'n', 'u', 's', 't']   s\n",
    ".s1"
   ]
  },
  {
   "cell_type": "code",
   "execution_count": 28,
   "id": "a3c9f78f",
   "metadata": {},
   "outputs": [],
   "source": [
    "s1.rename(index = {'q' : 'Q'}, inplace=True)     # 只修改一个索引 将 q 改为 Q "
   ]
  },
  {
   "cell_type": "code",
   "execution_count": 29,
   "id": "a340fbbc",
   "metadata": {},
   "outputs": [
    {
     "data": {
      "text/plain": [
       "p      0\n",
       "Q      1\n",
       "x    100\n",
       "y      3\n",
       "z      4\n",
       "m      5\n",
       "n      6\n",
       "u      7\n",
       "s      8\n",
       "t      9\n",
       "dtype: int32"
      ]
     },
     "execution_count": 29,
     "metadata": {},
     "output_type": "execute_result"
    }
   ],
   "source": [
    "s1"
   ]
  },
  {
   "cell_type": "markdown",
   "id": "339014d8",
   "metadata": {},
   "source": [
    "### 增加"
   ]
  },
  {
   "cell_type": "markdown",
   "id": "13d727b3",
   "metadata": {},
   "source": [
    "##### 1. 将一个 Series 追加到另一个 Series 尾部"
   ]
  },
  {
   "cell_type": "code",
   "execution_count": 59,
   "id": "b4bf3694",
   "metadata": {},
   "outputs": [
    {
     "data": {
      "text/plain": [
       "b     1\n",
       "c     2\n",
       "d     3\n",
       "e     4\n",
       "f     5\n",
       "g     6\n",
       "h     7\n",
       "i    52\n",
       "j     9\n",
       "l    15\n",
       "r    22\n",
       "dtype: int64"
      ]
     },
     "execution_count": 59,
     "metadata": {},
     "output_type": "execute_result"
    }
   ],
   "source": [
    "s2 = pd.Series([15, 22], ['l', 'r'])      \n",
    "pd.concat([s, s2] , ignore_index=False, axis=0)    # ignore_index 表示要不要为合并的新数据重新生成索引 默认为False  axis 指定沿哪个轴连接"
   ]
  },
  {
   "cell_type": "markdown",
   "id": "b2e77155",
   "metadata": {},
   "source": [
    "##### 2. 直接指定"
   ]
  },
  {
   "cell_type": "code",
   "execution_count": 38,
   "id": "2fedaf4c",
   "metadata": {},
   "outputs": [
    {
     "data": {
      "text/plain": [
       "a     0\n",
       "b     1\n",
       "c     2\n",
       "d     3\n",
       "e     4\n",
       "f     5\n",
       "g     6\n",
       "h     7\n",
       "i    52\n",
       "j     9\n",
       "dtype: int32"
      ]
     },
     "execution_count": 38,
     "metadata": {},
     "output_type": "execute_result"
    }
   ],
   "source": [
    "s['i'] = 52\n",
    "s"
   ]
  },
  {
   "cell_type": "markdown",
   "id": "01a3d1d1",
   "metadata": {},
   "source": [
    "### 删除"
   ]
  },
  {
   "cell_type": "code",
   "execution_count": 55,
   "id": "6aa63115",
   "metadata": {},
   "outputs": [
    {
     "data": {
      "text/plain": [
       "Q      1\n",
       "x    100\n",
       "y      3\n",
       "z      4\n",
       "m      5\n",
       "n      6\n",
       "u      7\n",
       "s      8\n",
       "t      9\n",
       "dtype: int32"
      ]
     },
     "execution_count": 55,
     "metadata": {},
     "output_type": "execute_result"
    }
   ],
   "source": [
    "del s1['p']    # del 方法 删除一行"
   ]
  },
  {
   "cell_type": "code",
   "execution_count": 56,
   "id": "28db7666",
   "metadata": {},
   "outputs": [
    {
     "data": {
      "text/plain": [
       "Q    1\n",
       "z    4\n",
       "m    5\n",
       "n    6\n",
       "u    7\n",
       "s    8\n",
       "t    9\n",
       "dtype: int32"
      ]
     },
     "execution_count": 56,
     "metadata": {},
     "output_type": "execute_result"
    }
   ],
   "source": [
    "s1.drop(['x', 'y'])   # drop 方法 删除多行"
   ]
  },
  {
   "cell_type": "markdown",
   "id": "38f4f096",
   "metadata": {},
   "source": [
    "## DataFrame中 操作方法和 Series 类似"
   ]
  },
  {
   "cell_type": "code",
   "execution_count": null,
   "id": "cb58b570",
   "metadata": {},
   "outputs": [],
   "source": []
  }
 ],
 "metadata": {
  "kernelspec": {
   "display_name": "Python 3 (ipykernel)",
   "language": "python",
   "name": "python3"
  },
  "language_info": {
   "codemirror_mode": {
    "name": "ipython",
    "version": 3
   },
   "file_extension": ".py",
   "mimetype": "text/x-python",
   "name": "python",
   "nbconvert_exporter": "python",
   "pygments_lexer": "ipython3",
   "version": "3.9.7"
  }
 },
 "nbformat": 4,
 "nbformat_minor": 5
}
