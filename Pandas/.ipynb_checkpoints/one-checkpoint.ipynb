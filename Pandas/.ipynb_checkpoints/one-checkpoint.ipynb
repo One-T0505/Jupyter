{
 "cells": [
  {
   "cell_type": "code",
   "execution_count": 18,
   "id": "13c7df47",
   "metadata": {},
   "outputs": [],
   "source": [
    "import pandas as pd   #导入包"
   ]
  },
  {
   "cell_type": "markdown",
   "id": "22274cb4",
   "metadata": {},
   "source": [
    "相对路径是以当前文件所在目录为基础：./ 表示同一目录下  ../ 表示相对当前目录的上一级目录"
   ]
  },
  {
   "cell_type": "code",
   "execution_count": 68,
   "id": "1c9d858d",
   "metadata": {},
   "outputs": [],
   "source": [
    "df=pd.read_csv('../data.csv')  "
   ]
  },
  {
   "cell_type": "code",
   "execution_count": 69,
   "id": "a863cebc",
   "metadata": {},
   "outputs": [
    {
     "data": {
      "text/html": [
       "<div>\n",
       "<style scoped>\n",
       "    .dataframe tbody tr th:only-of-type {\n",
       "        vertical-align: middle;\n",
       "    }\n",
       "\n",
       "    .dataframe tbody tr th {\n",
       "        vertical-align: top;\n",
       "    }\n",
       "\n",
       "    .dataframe thead th {\n",
       "        text-align: right;\n",
       "    }\n",
       "</style>\n",
       "<table border=\"1\" class=\"dataframe\">\n",
       "  <thead>\n",
       "    <tr style=\"text-align: right;\">\n",
       "      <th></th>\n",
       "      <th>名次</th>\n",
       "      <th>电影名称</th>\n",
       "      <th>日期</th>\n",
       "      <th>总场次</th>\n",
       "      <th>废场</th>\n",
       "      <th>人次</th>\n",
       "      <th>上座率</th>\n",
       "      <th>票价</th>\n",
       "    </tr>\n",
       "  </thead>\n",
       "  <tbody>\n",
       "    <tr>\n",
       "      <th>0</th>\n",
       "      <td>1</td>\n",
       "      <td>战狼2</td>\n",
       "      <td>20170805</td>\n",
       "      <td>93078</td>\n",
       "      <td>9964</td>\n",
       "      <td>871.41万</td>\n",
       "      <td>68.18%</td>\n",
       "      <td>37.3</td>\n",
       "    </tr>\n",
       "    <tr>\n",
       "      <th>1</th>\n",
       "      <td>2</td>\n",
       "      <td>战狼2</td>\n",
       "      <td>20170730</td>\n",
       "      <td>92023</td>\n",
       "      <td>7722</td>\n",
       "      <td>876.95万</td>\n",
       "      <td>65.96%</td>\n",
       "      <td>36.9</td>\n",
       "    </tr>\n",
       "    <tr>\n",
       "      <th>2</th>\n",
       "      <td>3</td>\n",
       "      <td>变形金刚5：最后的骑士</td>\n",
       "      <td>20170623</td>\n",
       "      <td>113498</td>\n",
       "      <td>16941</td>\n",
       "      <td>797.47万</td>\n",
       "      <td>85.53%</td>\n",
       "      <td>38.0</td>\n",
       "    </tr>\n",
       "    <tr>\n",
       "      <th>3</th>\n",
       "      <td>4</td>\n",
       "      <td>战狼2</td>\n",
       "      <td>20170729</td>\n",
       "      <td>86968</td>\n",
       "      <td>8825</td>\n",
       "      <td>777.32万</td>\n",
       "      <td>61.46%</td>\n",
       "      <td>36.8</td>\n",
       "    </tr>\n",
       "    <tr>\n",
       "      <th>4</th>\n",
       "      <td>5</td>\n",
       "      <td>复仇者联盟4：终局之战</td>\n",
       "      <td>20190424</td>\n",
       "      <td>98124</td>\n",
       "      <td>103079</td>\n",
       "      <td>530.45万</td>\n",
       "      <td>40.51%</td>\n",
       "      <td>53.9</td>\n",
       "    </tr>\n",
       "    <tr>\n",
       "      <th>...</th>\n",
       "      <td>...</td>\n",
       "      <td>...</td>\n",
       "      <td>...</td>\n",
       "      <td>...</td>\n",
       "      <td>...</td>\n",
       "      <td>...</td>\n",
       "      <td>...</td>\n",
       "      <td>...</td>\n",
       "    </tr>\n",
       "    <tr>\n",
       "      <th>545</th>\n",
       "      <td>546</td>\n",
       "      <td>飞驰人生</td>\n",
       "      <td>20190209</td>\n",
       "      <td>23256</td>\n",
       "      <td>48019</td>\n",
       "      <td>97.92万</td>\n",
       "      <td>37.42%</td>\n",
       "      <td>46.0</td>\n",
       "    </tr>\n",
       "    <tr>\n",
       "      <th>546</th>\n",
       "      <td>547</td>\n",
       "      <td>摔跤吧！爸爸</td>\n",
       "      <td>20170512</td>\n",
       "      <td>23670</td>\n",
       "      <td>5110</td>\n",
       "      <td>138.9万</td>\n",
       "      <td>72.2%</td>\n",
       "      <td>32.4</td>\n",
       "    </tr>\n",
       "    <tr>\n",
       "      <th>547</th>\n",
       "      <td>548</td>\n",
       "      <td>惊天魔盗团2</td>\n",
       "      <td>20160625</td>\n",
       "      <td>24198</td>\n",
       "      <td>3198</td>\n",
       "      <td>100.68万</td>\n",
       "      <td>25.54%</td>\n",
       "      <td>44.7</td>\n",
       "    </tr>\n",
       "    <tr>\n",
       "      <th>548</th>\n",
       "      <td>549</td>\n",
       "      <td>李茶的姑妈</td>\n",
       "      <td>20180930</td>\n",
       "      <td>34893</td>\n",
       "      <td>50951</td>\n",
       "      <td>122.28万</td>\n",
       "      <td>23.02%</td>\n",
       "      <td>36.6</td>\n",
       "    </tr>\n",
       "    <tr>\n",
       "      <th>549</th>\n",
       "      <td>550</td>\n",
       "      <td>正义联盟</td>\n",
       "      <td>20171119</td>\n",
       "      <td>33599</td>\n",
       "      <td>52663</td>\n",
       "      <td>122.36万</td>\n",
       "      <td>23.3%</td>\n",
       "      <td>36.6</td>\n",
       "    </tr>\n",
       "  </tbody>\n",
       "</table>\n",
       "<p>550 rows × 8 columns</p>\n",
       "</div>"
      ],
      "text/plain": [
       "      名次         电影名称        日期     总场次      废场       人次     上座率    票价\n",
       "0      1          战狼2  20170805   93078    9964  871.41万  68.18%  37.3\n",
       "1      2          战狼2  20170730   92023    7722  876.95万  65.96%  36.9\n",
       "2      3  变形金刚5：最后的骑士  20170623  113498   16941  797.47万  85.53%  38.0\n",
       "3      4          战狼2  20170729   86968    8825  777.32万  61.46%  36.8\n",
       "4      5  复仇者联盟4：终局之战  20190424   98124  103079  530.45万  40.51%  53.9\n",
       "..   ...          ...       ...     ...     ...      ...     ...   ...\n",
       "545  546         飞驰人生  20190209   23256   48019   97.92万  37.42%  46.0\n",
       "546  547       摔跤吧！爸爸  20170512   23670    5110   138.9万   72.2%  32.4\n",
       "547  548       惊天魔盗团2  20160625   24198    3198  100.68万  25.54%  44.7\n",
       "548  549        李茶的姑妈  20180930   34893   50951  122.28万  23.02%  36.6\n",
       "549  550         正义联盟  20171119   33599   52663  122.36万   23.3%  36.6\n",
       "\n",
       "[550 rows x 8 columns]"
      ]
     },
     "execution_count": 69,
     "metadata": {},
     "output_type": "execute_result"
    }
   ],
   "source": [
    "df"
   ]
  },
  {
   "cell_type": "code",
   "execution_count": 70,
   "id": "4bf50bcb",
   "metadata": {},
   "outputs": [
    {
     "data": {
      "text/plain": [
       "(550,)"
      ]
     },
     "execution_count": 70,
     "metadata": {},
     "output_type": "execute_result"
    }
   ],
   "source": [
    "df['废场'].shape"
   ]
  },
  {
   "cell_type": "markdown",
   "id": "f500092b",
   "metadata": {},
   "source": [
    ".head(n) 该方法用于显示前n行"
   ]
  },
  {
   "cell_type": "code",
   "execution_count": 71,
   "id": "5f95add8",
   "metadata": {},
   "outputs": [
    {
     "data": {
      "text/html": [
       "<div>\n",
       "<style scoped>\n",
       "    .dataframe tbody tr th:only-of-type {\n",
       "        vertical-align: middle;\n",
       "    }\n",
       "\n",
       "    .dataframe tbody tr th {\n",
       "        vertical-align: top;\n",
       "    }\n",
       "\n",
       "    .dataframe thead th {\n",
       "        text-align: right;\n",
       "    }\n",
       "</style>\n",
       "<table border=\"1\" class=\"dataframe\">\n",
       "  <thead>\n",
       "    <tr style=\"text-align: right;\">\n",
       "      <th></th>\n",
       "      <th>名次</th>\n",
       "      <th>电影名称</th>\n",
       "      <th>日期</th>\n",
       "      <th>总场次</th>\n",
       "      <th>废场</th>\n",
       "      <th>人次</th>\n",
       "      <th>上座率</th>\n",
       "      <th>票价</th>\n",
       "    </tr>\n",
       "  </thead>\n",
       "  <tbody>\n",
       "    <tr>\n",
       "      <th>0</th>\n",
       "      <td>1</td>\n",
       "      <td>战狼2</td>\n",
       "      <td>20170805</td>\n",
       "      <td>93078</td>\n",
       "      <td>9964</td>\n",
       "      <td>871.41万</td>\n",
       "      <td>68.18%</td>\n",
       "      <td>37.3</td>\n",
       "    </tr>\n",
       "    <tr>\n",
       "      <th>1</th>\n",
       "      <td>2</td>\n",
       "      <td>战狼2</td>\n",
       "      <td>20170730</td>\n",
       "      <td>92023</td>\n",
       "      <td>7722</td>\n",
       "      <td>876.95万</td>\n",
       "      <td>65.96%</td>\n",
       "      <td>36.9</td>\n",
       "    </tr>\n",
       "    <tr>\n",
       "      <th>2</th>\n",
       "      <td>3</td>\n",
       "      <td>变形金刚5：最后的骑士</td>\n",
       "      <td>20170623</td>\n",
       "      <td>113498</td>\n",
       "      <td>16941</td>\n",
       "      <td>797.47万</td>\n",
       "      <td>85.53%</td>\n",
       "      <td>38.0</td>\n",
       "    </tr>\n",
       "    <tr>\n",
       "      <th>3</th>\n",
       "      <td>4</td>\n",
       "      <td>战狼2</td>\n",
       "      <td>20170729</td>\n",
       "      <td>86968</td>\n",
       "      <td>8825</td>\n",
       "      <td>777.32万</td>\n",
       "      <td>61.46%</td>\n",
       "      <td>36.8</td>\n",
       "    </tr>\n",
       "    <tr>\n",
       "      <th>4</th>\n",
       "      <td>5</td>\n",
       "      <td>复仇者联盟4：终局之战</td>\n",
       "      <td>20190424</td>\n",
       "      <td>98124</td>\n",
       "      <td>103079</td>\n",
       "      <td>530.45万</td>\n",
       "      <td>40.51%</td>\n",
       "      <td>53.9</td>\n",
       "    </tr>\n",
       "  </tbody>\n",
       "</table>\n",
       "</div>"
      ],
      "text/plain": [
       "   名次         电影名称        日期     总场次      废场       人次     上座率    票价\n",
       "0   1          战狼2  20170805   93078    9964  871.41万  68.18%  37.3\n",
       "1   2          战狼2  20170730   92023    7722  876.95万  65.96%  36.9\n",
       "2   3  变形金刚5：最后的骑士  20170623  113498   16941  797.47万  85.53%  38.0\n",
       "3   4          战狼2  20170729   86968    8825  777.32万  61.46%  36.8\n",
       "4   5  复仇者联盟4：终局之战  20190424   98124  103079  530.45万  40.51%  53.9"
      ]
     },
     "execution_count": 71,
     "metadata": {},
     "output_type": "execute_result"
    }
   ],
   "source": [
    "df.head(5)"
   ]
  },
  {
   "cell_type": "markdown",
   "id": "d00350d3",
   "metadata": {},
   "source": [
    ".info()方法返回当前数据详细信息  在pandas中 object类型就代表字符串"
   ]
  },
  {
   "cell_type": "code",
   "execution_count": 72,
   "id": "d6a893cf",
   "metadata": {},
   "outputs": [
    {
     "name": "stdout",
     "output_type": "stream",
     "text": [
      "<class 'pandas.core.frame.DataFrame'>\n",
      "RangeIndex: 550 entries, 0 to 549\n",
      "Data columns (total 8 columns):\n",
      " #   Column  Non-Null Count  Dtype  \n",
      "---  ------  --------------  -----  \n",
      " 0   名次      550 non-null    int64  \n",
      " 1   电影名称    550 non-null    object \n",
      " 2   日期      550 non-null    int64  \n",
      " 3   总场次     550 non-null    int64  \n",
      " 4   废场      550 non-null    int64  \n",
      " 5   人次      550 non-null    object \n",
      " 6   上座率     550 non-null    object \n",
      " 7   票价      550 non-null    float64\n",
      "dtypes: float64(1), int64(4), object(3)\n",
      "memory usage: 34.5+ KB\n"
     ]
    }
   ],
   "source": [
    "df.info()"
   ]
  },
  {
   "cell_type": "code",
   "execution_count": 73,
   "id": "6b498d52",
   "metadata": {},
   "outputs": [
    {
     "data": {
      "text/plain": [
       "RangeIndex(start=0, stop=550, step=1)"
      ]
     },
     "execution_count": 73,
     "metadata": {},
     "output_type": "execute_result"
    }
   ],
   "source": [
    "df.index #.index 方法返回数据的行索引，这是不包含在列中的"
   ]
  },
  {
   "cell_type": "code",
   "execution_count": 74,
   "id": "28978271",
   "metadata": {},
   "outputs": [
    {
     "data": {
      "text/plain": [
       "Index(['名次', '电影名称', '日期', '总场次', '废场', '人次', '上座率', '票价'], dtype='object')"
      ]
     },
     "execution_count": 74,
     "metadata": {},
     "output_type": "execute_result"
    }
   ],
   "source": [
    "df.columns  # 返回数据的列信息"
   ]
  },
  {
   "cell_type": "code",
   "execution_count": 75,
   "id": "d1ec217e",
   "metadata": {},
   "outputs": [
    {
     "data": {
      "text/plain": [
       "名次        int64\n",
       "电影名称     object\n",
       "日期        int64\n",
       "总场次       int64\n",
       "废场        int64\n",
       "人次       object\n",
       "上座率      object\n",
       "票价      float64\n",
       "dtype: object"
      ]
     },
     "execution_count": 75,
     "metadata": {},
     "output_type": "execute_result"
    }
   ],
   "source": [
    "df.dtypes"
   ]
  },
  {
   "cell_type": "code",
   "execution_count": 76,
   "id": "5056d375",
   "metadata": {},
   "outputs": [
    {
     "data": {
      "text/plain": [
       "array([[1, '战狼2', 20170805, ..., '871.41万', '68.18%', 37.3],\n",
       "       [2, '战狼2', 20170730, ..., '876.95万', '65.96%', 36.9],\n",
       "       [3, '变形金刚5：最后的骑士', 20170623, ..., '797.47万', '85.53%', 38.0],\n",
       "       ...,\n",
       "       [548, '惊天魔盗团2', 20160625, ..., '100.68万', '25.54%', 44.7],\n",
       "       [549, '李茶的姑妈', 20180930, ..., '122.28万', '23.02%', 36.6],\n",
       "       [550, '正义联盟', 20171119, ..., '122.36万', '23.3%', 36.6]],\n",
       "      dtype=object)"
      ]
     },
     "execution_count": 76,
     "metadata": {},
     "output_type": "execute_result"
    }
   ],
   "source": [
    "df.values   #这个只包含每行样本的数值，不包含列信息和行索引"
   ]
  },
  {
   "cell_type": "markdown",
   "id": "ab3948f1",
   "metadata": {},
   "source": [
    "pandas中的核心数据结构DataFrame 和字典很类似，也可以构造一个字典再转化为DataFrame"
   ]
  },
  {
   "cell_type": "code",
   "execution_count": 77,
   "id": "67c81117",
   "metadata": {},
   "outputs": [],
   "source": [
    "data = {'country':['中国', '美国', '日本'], 'population':['14亿', '5亿', '1.5亿']}\n",
    "df_data = pd.DataFrame(data)"
   ]
  },
  {
   "cell_type": "code",
   "execution_count": 78,
   "id": "6ebf727d",
   "metadata": {},
   "outputs": [
    {
     "data": {
      "text/html": [
       "<div>\n",
       "<style scoped>\n",
       "    .dataframe tbody tr th:only-of-type {\n",
       "        vertical-align: middle;\n",
       "    }\n",
       "\n",
       "    .dataframe tbody tr th {\n",
       "        vertical-align: top;\n",
       "    }\n",
       "\n",
       "    .dataframe thead th {\n",
       "        text-align: right;\n",
       "    }\n",
       "</style>\n",
       "<table border=\"1\" class=\"dataframe\">\n",
       "  <thead>\n",
       "    <tr style=\"text-align: right;\">\n",
       "      <th></th>\n",
       "      <th>country</th>\n",
       "      <th>population</th>\n",
       "    </tr>\n",
       "  </thead>\n",
       "  <tbody>\n",
       "    <tr>\n",
       "      <th>0</th>\n",
       "      <td>中国</td>\n",
       "      <td>14亿</td>\n",
       "    </tr>\n",
       "    <tr>\n",
       "      <th>1</th>\n",
       "      <td>美国</td>\n",
       "      <td>5亿</td>\n",
       "    </tr>\n",
       "    <tr>\n",
       "      <th>2</th>\n",
       "      <td>日本</td>\n",
       "      <td>1.5亿</td>\n",
       "    </tr>\n",
       "  </tbody>\n",
       "</table>\n",
       "</div>"
      ],
      "text/plain": [
       "  country population\n",
       "0      中国        14亿\n",
       "1      美国         5亿\n",
       "2      日本       1.5亿"
      ]
     },
     "execution_count": 78,
     "metadata": {},
     "output_type": "execute_result"
    }
   ],
   "source": [
    "df_data"
   ]
  },
  {
   "cell_type": "markdown",
   "id": "21b89eb2",
   "metadata": {},
   "source": [
    "DataFrame中默认索引是从0开始的一串数字，也可以用set_index()方法设置"
   ]
  },
  {
   "cell_type": "code",
   "execution_count": 79,
   "id": "6c552bdc",
   "metadata": {},
   "outputs": [],
   "source": [
    "# df = df.set_index('票价')  # 指定用 票价 这一列的数据作为索引\n",
    "# df.head(5)"
   ]
  },
  {
   "cell_type": "markdown",
   "id": "91121d33",
   "metadata": {},
   "source": [
    "获得了一列数据  在pandas中是 Series 类型  可以进行数值运算 ，也有numpy中的广播功能"
   ]
  },
  {
   "cell_type": "code",
   "execution_count": 81,
   "id": "07e82feb",
   "metadata": {},
   "outputs": [
    {
     "data": {
      "text/plain": [
       "0       93078\n",
       "1       92023\n",
       "2      113498\n",
       "3       86968\n",
       "4       98124\n",
       "        ...  \n",
       "545     23256\n",
       "546     23670\n",
       "547     24198\n",
       "548     34893\n",
       "549     33599\n",
       "Name: 总场次, Length: 550, dtype: int64"
      ]
     },
     "execution_count": 81,
     "metadata": {},
     "output_type": "execute_result"
    }
   ],
   "source": [
    "df_num = df['总场次']\n",
    "df_num"
   ]
  },
  {
   "cell_type": "code",
   "execution_count": 82,
   "id": "8e782c8e",
   "metadata": {},
   "outputs": [
    {
     "data": {
      "text/plain": [
       "0     88078\n",
       "1     87023\n",
       "2    108498\n",
       "3     81968\n",
       "4     93124\n",
       "Name: 总场次, dtype: int64"
      ]
     },
     "execution_count": 82,
     "metadata": {},
     "output_type": "execute_result"
    }
   ],
   "source": [
    "df_num = df_num - 5000\n",
    "df_num[:5]"
   ]
  },
  {
   "cell_type": "markdown",
   "id": "dfcdfcd5",
   "metadata": {},
   "source": [
    "describe() 方法用于统计该数据表的指标   只能统计数值型的属性"
   ]
  },
  {
   "cell_type": "code",
   "execution_count": 83,
   "id": "061c8893",
   "metadata": {},
   "outputs": [
    {
     "data": {
      "text/html": [
       "<div>\n",
       "<style scoped>\n",
       "    .dataframe tbody tr th:only-of-type {\n",
       "        vertical-align: middle;\n",
       "    }\n",
       "\n",
       "    .dataframe tbody tr th {\n",
       "        vertical-align: top;\n",
       "    }\n",
       "\n",
       "    .dataframe thead th {\n",
       "        text-align: right;\n",
       "    }\n",
       "</style>\n",
       "<table border=\"1\" class=\"dataframe\">\n",
       "  <thead>\n",
       "    <tr style=\"text-align: right;\">\n",
       "      <th></th>\n",
       "      <th>名次</th>\n",
       "      <th>日期</th>\n",
       "      <th>总场次</th>\n",
       "      <th>废场</th>\n",
       "      <th>票价</th>\n",
       "    </tr>\n",
       "  </thead>\n",
       "  <tbody>\n",
       "    <tr>\n",
       "      <th>count</th>\n",
       "      <td>550.000000</td>\n",
       "      <td>5.500000e+02</td>\n",
       "      <td>550.000000</td>\n",
       "      <td>550.000000</td>\n",
       "      <td>550.000000</td>\n",
       "    </tr>\n",
       "    <tr>\n",
       "      <th>mean</th>\n",
       "      <td>275.500000</td>\n",
       "      <td>2.017054e+07</td>\n",
       "      <td>38038.480000</td>\n",
       "      <td>30920.600000</td>\n",
       "      <td>40.305818</td>\n",
       "    </tr>\n",
       "    <tr>\n",
       "      <th>std</th>\n",
       "      <td>158.915596</td>\n",
       "      <td>1.317271e+04</td>\n",
       "      <td>16652.332628</td>\n",
       "      <td>32509.825523</td>\n",
       "      <td>5.212829</td>\n",
       "    </tr>\n",
       "    <tr>\n",
       "      <th>min</th>\n",
       "      <td>1.000000</td>\n",
       "      <td>2.014063e+07</td>\n",
       "      <td>7913.000000</td>\n",
       "      <td>0.000000</td>\n",
       "      <td>30.200000</td>\n",
       "    </tr>\n",
       "    <tr>\n",
       "      <th>25%</th>\n",
       "      <td>138.250000</td>\n",
       "      <td>2.016032e+07</td>\n",
       "      <td>26923.000000</td>\n",
       "      <td>2504.000000</td>\n",
       "      <td>36.400000</td>\n",
       "    </tr>\n",
       "    <tr>\n",
       "      <th>50%</th>\n",
       "      <td>275.500000</td>\n",
       "      <td>2.017071e+07</td>\n",
       "      <td>34624.000000</td>\n",
       "      <td>14702.500000</td>\n",
       "      <td>39.250000</td>\n",
       "    </tr>\n",
       "    <tr>\n",
       "      <th>75%</th>\n",
       "      <td>412.750000</td>\n",
       "      <td>2.018068e+07</td>\n",
       "      <td>45591.250000</td>\n",
       "      <td>53322.750000</td>\n",
       "      <td>44.775000</td>\n",
       "    </tr>\n",
       "    <tr>\n",
       "      <th>max</th>\n",
       "      <td>550.000000</td>\n",
       "      <td>2.019103e+07</td>\n",
       "      <td>113498.000000</td>\n",
       "      <td>128079.000000</td>\n",
       "      <td>57.300000</td>\n",
       "    </tr>\n",
       "  </tbody>\n",
       "</table>\n",
       "</div>"
      ],
      "text/plain": [
       "               名次            日期            总场次             废场          票价\n",
       "count  550.000000  5.500000e+02     550.000000     550.000000  550.000000\n",
       "mean   275.500000  2.017054e+07   38038.480000   30920.600000   40.305818\n",
       "std    158.915596  1.317271e+04   16652.332628   32509.825523    5.212829\n",
       "min      1.000000  2.014063e+07    7913.000000       0.000000   30.200000\n",
       "25%    138.250000  2.016032e+07   26923.000000    2504.000000   36.400000\n",
       "50%    275.500000  2.017071e+07   34624.000000   14702.500000   39.250000\n",
       "75%    412.750000  2.018068e+07   45591.250000   53322.750000   44.775000\n",
       "max    550.000000  2.019103e+07  113498.000000  128079.000000   57.300000"
      ]
     },
     "execution_count": 83,
     "metadata": {},
     "output_type": "execute_result"
    }
   ],
   "source": [
    "df.describe()"
   ]
  },
  {
   "cell_type": "code",
   "execution_count": 84,
   "id": "1e804707",
   "metadata": {},
   "outputs": [
    {
     "data": {
      "text/plain": [
       "名次             1\n",
       "电影名称         战狼2\n",
       "日期      20170805\n",
       "总场次        93078\n",
       "废场          9964\n",
       "人次       871.41万\n",
       "上座率       68.18%\n",
       "票价          37.3\n",
       "Name: 0, dtype: object"
      ]
     },
     "execution_count": 84,
     "metadata": {},
     "output_type": "execute_result"
    }
   ],
   "source": [
    "df.loc[0]"
   ]
  },
  {
   "cell_type": "code",
   "execution_count": 85,
   "id": "7bc9feab",
   "metadata": {},
   "outputs": [
    {
     "data": {
      "text/html": [
       "<div>\n",
       "<style scoped>\n",
       "    .dataframe tbody tr th:only-of-type {\n",
       "        vertical-align: middle;\n",
       "    }\n",
       "\n",
       "    .dataframe tbody tr th {\n",
       "        vertical-align: top;\n",
       "    }\n",
       "\n",
       "    .dataframe thead th {\n",
       "        text-align: right;\n",
       "    }\n",
       "</style>\n",
       "<table border=\"1\" class=\"dataframe\">\n",
       "  <thead>\n",
       "    <tr style=\"text-align: right;\">\n",
       "      <th></th>\n",
       "      <th>电影名称</th>\n",
       "      <th>票价</th>\n",
       "    </tr>\n",
       "  </thead>\n",
       "  <tbody>\n",
       "    <tr>\n",
       "      <th>2</th>\n",
       "      <td>变形金刚5：最后的骑士</td>\n",
       "      <td>38.0</td>\n",
       "    </tr>\n",
       "    <tr>\n",
       "      <th>4</th>\n",
       "      <td>复仇者联盟4：终局之战</td>\n",
       "      <td>53.9</td>\n",
       "    </tr>\n",
       "  </tbody>\n",
       "</table>\n",
       "</div>"
      ],
      "text/plain": [
       "          电影名称    票价\n",
       "2  变形金刚5：最后的骑士  38.0\n",
       "4  复仇者联盟4：终局之战  53.9"
      ]
     },
     "execution_count": 85,
     "metadata": {},
     "output_type": "execute_result"
    }
   ],
   "source": [
    "df.loc[[2, 4], ['电影名称', '票价']]"
   ]
  },
  {
   "cell_type": "markdown",
   "id": "32e1c32d",
   "metadata": {},
   "source": [
    "iloc 方法可以同时对行或者列进行切片 列也有默认索引"
   ]
  },
  {
   "cell_type": "code",
   "execution_count": 87,
   "id": "1e0c222c",
   "metadata": {},
   "outputs": [
    {
     "data": {
      "text/html": [
       "<div>\n",
       "<style scoped>\n",
       "    .dataframe tbody tr th:only-of-type {\n",
       "        vertical-align: middle;\n",
       "    }\n",
       "\n",
       "    .dataframe tbody tr th {\n",
       "        vertical-align: top;\n",
       "    }\n",
       "\n",
       "    .dataframe thead th {\n",
       "        text-align: right;\n",
       "    }\n",
       "</style>\n",
       "<table border=\"1\" class=\"dataframe\">\n",
       "  <thead>\n",
       "    <tr style=\"text-align: right;\">\n",
       "      <th></th>\n",
       "      <th>电影名称</th>\n",
       "      <th>日期</th>\n",
       "      <th>总场次</th>\n",
       "    </tr>\n",
       "  </thead>\n",
       "  <tbody>\n",
       "    <tr>\n",
       "      <th>2</th>\n",
       "      <td>变形金刚5：最后的骑士</td>\n",
       "      <td>20170623</td>\n",
       "      <td>113498</td>\n",
       "    </tr>\n",
       "    <tr>\n",
       "      <th>3</th>\n",
       "      <td>战狼2</td>\n",
       "      <td>20170729</td>\n",
       "      <td>86968</td>\n",
       "    </tr>\n",
       "  </tbody>\n",
       "</table>\n",
       "</div>"
      ],
      "text/plain": [
       "          电影名称        日期     总场次\n",
       "2  变形金刚5：最后的骑士  20170623  113498\n",
       "3          战狼2  20170729   86968"
      ]
     },
     "execution_count": 87,
     "metadata": {},
     "output_type": "execute_result"
    }
   ],
   "source": [
    "df.iloc[2:4, 1:4]     "
   ]
  },
  {
   "cell_type": "code",
   "execution_count": 88,
   "id": "410c36e6",
   "metadata": {},
   "outputs": [
    {
     "data": {
      "text/plain": [
       "47.09041916167664"
      ]
     },
     "execution_count": 88,
     "metadata": {},
     "output_type": "execute_result"
    }
   ],
   "source": [
    "df.loc[df['票价']>42.0, '票价'].mean()"
   ]
  },
  {
   "cell_type": "code",
   "execution_count": 89,
   "id": "52d61232",
   "metadata": {},
   "outputs": [
    {
     "data": {
      "text/plain": [
       "0      37.3\n",
       "1      36.9\n",
       "2      38.0\n",
       "3      36.8\n",
       "4      53.9\n",
       "       ... \n",
       "545    46.0\n",
       "546    32.4\n",
       "547    44.7\n",
       "548    36.6\n",
       "549    36.6\n",
       "Name: 票价, Length: 550, dtype: float64"
      ]
     },
     "execution_count": 89,
     "metadata": {},
     "output_type": "execute_result"
    }
   ],
   "source": [
    "df['票价']"
   ]
  },
  {
   "cell_type": "code",
   "execution_count": 90,
   "id": "96822647",
   "metadata": {},
   "outputs": [
    {
     "data": {
      "text/html": [
       "<div>\n",
       "<style scoped>\n",
       "    .dataframe tbody tr th:only-of-type {\n",
       "        vertical-align: middle;\n",
       "    }\n",
       "\n",
       "    .dataframe tbody tr th {\n",
       "        vertical-align: top;\n",
       "    }\n",
       "\n",
       "    .dataframe thead th {\n",
       "        text-align: right;\n",
       "    }\n",
       "</style>\n",
       "<table border=\"1\" class=\"dataframe\">\n",
       "  <thead>\n",
       "    <tr style=\"text-align: right;\">\n",
       "      <th></th>\n",
       "      <th>名次</th>\n",
       "      <th>电影名称</th>\n",
       "      <th>日期</th>\n",
       "      <th>总场次</th>\n",
       "      <th>废场</th>\n",
       "      <th>人次</th>\n",
       "      <th>上座率</th>\n",
       "      <th>票价</th>\n",
       "    </tr>\n",
       "  </thead>\n",
       "  <tbody>\n",
       "    <tr>\n",
       "      <th>0</th>\n",
       "      <td>1</td>\n",
       "      <td>战狼2</td>\n",
       "      <td>20170805</td>\n",
       "      <td>93078</td>\n",
       "      <td>9964</td>\n",
       "      <td>871.41万</td>\n",
       "      <td>68.18%</td>\n",
       "      <td>37.3</td>\n",
       "    </tr>\n",
       "    <tr>\n",
       "      <th>1</th>\n",
       "      <td>2</td>\n",
       "      <td>战狼2</td>\n",
       "      <td>20170730</td>\n",
       "      <td>92023</td>\n",
       "      <td>7722</td>\n",
       "      <td>876.95万</td>\n",
       "      <td>65.96%</td>\n",
       "      <td>36.9</td>\n",
       "    </tr>\n",
       "    <tr>\n",
       "      <th>2</th>\n",
       "      <td>3</td>\n",
       "      <td>变形金刚5：最后的骑士</td>\n",
       "      <td>20170623</td>\n",
       "      <td>113498</td>\n",
       "      <td>16941</td>\n",
       "      <td>797.47万</td>\n",
       "      <td>85.53%</td>\n",
       "      <td>38.0</td>\n",
       "    </tr>\n",
       "    <tr>\n",
       "      <th>3</th>\n",
       "      <td>4</td>\n",
       "      <td>战狼2</td>\n",
       "      <td>20170729</td>\n",
       "      <td>86968</td>\n",
       "      <td>8825</td>\n",
       "      <td>777.32万</td>\n",
       "      <td>61.46%</td>\n",
       "      <td>36.8</td>\n",
       "    </tr>\n",
       "    <tr>\n",
       "      <th>4</th>\n",
       "      <td>5</td>\n",
       "      <td>复仇者联盟4：终局之战</td>\n",
       "      <td>20190424</td>\n",
       "      <td>98124</td>\n",
       "      <td>103079</td>\n",
       "      <td>530.45万</td>\n",
       "      <td>40.51%</td>\n",
       "      <td>53.9</td>\n",
       "    </tr>\n",
       "  </tbody>\n",
       "</table>\n",
       "</div>"
      ],
      "text/plain": [
       "   名次         电影名称        日期     总场次      废场       人次     上座率    票价\n",
       "0   1          战狼2  20170805   93078    9964  871.41万  68.18%  37.3\n",
       "1   2          战狼2  20170730   92023    7722  876.95万  65.96%  36.9\n",
       "2   3  变形金刚5：最后的骑士  20170623  113498   16941  797.47万  85.53%  38.0\n",
       "3   4          战狼2  20170729   86968    8825  777.32万  61.46%  36.8\n",
       "4   5  复仇者联盟4：终局之战  20190424   98124  103079  530.45万  40.51%  53.9"
      ]
     },
     "execution_count": 90,
     "metadata": {},
     "output_type": "execute_result"
    }
   ],
   "source": [
    "df.head(5)"
   ]
  },
  {
   "cell_type": "code",
   "execution_count": 94,
   "id": "18099139",
   "metadata": {},
   "outputs": [
    {
     "data": {
      "text/plain": [
       "电影名称\n",
       "007：幽灵党       40.933333\n",
       "X战警：天启        46.466667\n",
       "一出好戏          36.400000\n",
       "三生三世十里桃花      36.225000\n",
       "中国机长          40.614286\n",
       "                ...    \n",
       "霍比特人3：去而复归    51.900000\n",
       "飞驰人生          46.916667\n",
       "鬼吹灯之九层妖塔      45.420000\n",
       "魔兽            47.650000\n",
       "黑豹            37.350000\n",
       "Name: 票价, Length: 114, dtype: float64"
      ]
     },
     "execution_count": 94,
     "metadata": {},
     "output_type": "execute_result"
    }
   ],
   "source": [
    "df.groupby('电影名称')['票价'].mean()"
   ]
  },
  {
   "cell_type": "code",
   "execution_count": null,
   "id": "8238fa3b",
   "metadata": {},
   "outputs": [],
   "source": []
  }
 ],
 "metadata": {
  "kernelspec": {
   "display_name": "Python 3 (ipykernel)",
   "language": "python",
   "name": "python3"
  },
  "language_info": {
   "codemirror_mode": {
    "name": "ipython",
    "version": 3
   },
   "file_extension": ".py",
   "mimetype": "text/x-python",
   "name": "python",
   "nbconvert_exporter": "python",
   "pygments_lexer": "ipython3",
   "version": "3.9.7"
  }
 },
 "nbformat": 4,
 "nbformat_minor": 5
}
