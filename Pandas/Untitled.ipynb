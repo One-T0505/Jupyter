{
 "cells": [
  {
   "cell_type": "code",
   "execution_count": 1,
   "id": "0ae7822d",
   "metadata": {},
   "outputs": [],
   "source": [
    "import pandas as pd"
   ]
  },
  {
   "cell_type": "code",
   "execution_count": 14,
   "id": "b54edbbc",
   "metadata": {},
   "outputs": [
    {
     "data": {
      "text/html": [
       "<div>\n",
       "<style scoped>\n",
       "    .dataframe tbody tr th:only-of-type {\n",
       "        vertical-align: middle;\n",
       "    }\n",
       "\n",
       "    .dataframe tbody tr th {\n",
       "        vertical-align: top;\n",
       "    }\n",
       "\n",
       "    .dataframe thead th {\n",
       "        text-align: right;\n",
       "    }\n",
       "</style>\n",
       "<table border=\"1\" class=\"dataframe\">\n",
       "  <thead>\n",
       "    <tr style=\"text-align: right;\">\n",
       "      <th></th>\n",
       "      <th>time</th>\n",
       "      <th>cityname</th>\n",
       "      <th>aqi</th>\n",
       "      <th>pm2_5</th>\n",
       "      <th>pm10</th>\n",
       "      <th>so2</th>\n",
       "      <th>no2</th>\n",
       "      <th>co</th>\n",
       "      <th>o3</th>\n",
       "      <th>primary_pollutant</th>\n",
       "    </tr>\n",
       "  </thead>\n",
       "  <tbody>\n",
       "    <tr>\n",
       "      <th>0</th>\n",
       "      <td>2014-12-31</td>\n",
       "      <td>阿坝州</td>\n",
       "      <td>53</td>\n",
       "      <td>33</td>\n",
       "      <td>55</td>\n",
       "      <td>3</td>\n",
       "      <td>23</td>\n",
       "      <td>1.0</td>\n",
       "      <td>35.0</td>\n",
       "      <td>PM10</td>\n",
       "    </tr>\n",
       "    <tr>\n",
       "      <th>1</th>\n",
       "      <td>2015-01-31</td>\n",
       "      <td>阿坝州</td>\n",
       "      <td>31</td>\n",
       "      <td>18</td>\n",
       "      <td>29</td>\n",
       "      <td>7</td>\n",
       "      <td>10</td>\n",
       "      <td>0.5</td>\n",
       "      <td>45.0</td>\n",
       "      <td>NaN</td>\n",
       "    </tr>\n",
       "    <tr>\n",
       "      <th>2</th>\n",
       "      <td>2015-01-30</td>\n",
       "      <td>阿坝州</td>\n",
       "      <td>34</td>\n",
       "      <td>19</td>\n",
       "      <td>30</td>\n",
       "      <td>7</td>\n",
       "      <td>13</td>\n",
       "      <td>0.6</td>\n",
       "      <td>48.0</td>\n",
       "      <td>NaN</td>\n",
       "    </tr>\n",
       "    <tr>\n",
       "      <th>3</th>\n",
       "      <td>2015-01-29</td>\n",
       "      <td>阿坝州</td>\n",
       "      <td>31</td>\n",
       "      <td>18</td>\n",
       "      <td>31</td>\n",
       "      <td>7</td>\n",
       "      <td>15</td>\n",
       "      <td>0.5</td>\n",
       "      <td>32.0</td>\n",
       "      <td>NaN</td>\n",
       "    </tr>\n",
       "    <tr>\n",
       "      <th>4</th>\n",
       "      <td>2015-01-28</td>\n",
       "      <td>阿坝州</td>\n",
       "      <td>29</td>\n",
       "      <td>18</td>\n",
       "      <td>29</td>\n",
       "      <td>7</td>\n",
       "      <td>14</td>\n",
       "      <td>0.6</td>\n",
       "      <td>27.0</td>\n",
       "      <td>NaN</td>\n",
       "    </tr>\n",
       "  </tbody>\n",
       "</table>\n",
       "</div>"
      ],
      "text/plain": [
       "         time cityname  aqi  pm2_5  pm10  so2  no2   co    o3  \\\n",
       "0  2014-12-31      阿坝州   53     33    55    3   23  1.0  35.0   \n",
       "1  2015-01-31      阿坝州   31     18    29    7   10  0.5  45.0   \n",
       "2  2015-01-30      阿坝州   34     19    30    7   13  0.6  48.0   \n",
       "3  2015-01-29      阿坝州   31     18    31    7   15  0.5  32.0   \n",
       "4  2015-01-28      阿坝州   29     18    29    7   14  0.6  27.0   \n",
       "\n",
       "  primary_pollutant  \n",
       "0              PM10  \n",
       "1               NaN  \n",
       "2               NaN  \n",
       "3               NaN  \n",
       "4               NaN  "
      ]
     },
     "execution_count": 14,
     "metadata": {},
     "output_type": "execute_result"
    }
   ],
   "source": [
    "df = pd.read_csv('../../datasets/weather/aqi.csv')\n",
    "df.head(5)"
   ]
  },
  {
   "cell_type": "code",
   "execution_count": 15,
   "id": "e67a80b9",
   "metadata": {},
   "outputs": [
    {
     "data": {
      "text/plain": [
       "(557424, 10)"
      ]
     },
     "execution_count": 15,
     "metadata": {},
     "output_type": "execute_result"
    }
   ],
   "source": [
    "df.shape"
   ]
  },
  {
   "cell_type": "markdown",
   "id": "17c30bb2",
   "metadata": {},
   "source": [
    "处理大型数据时 ，要看看内存情况"
   ]
  },
  {
   "cell_type": "code",
   "execution_count": 16,
   "id": "832a49b6",
   "metadata": {},
   "outputs": [
    {
     "name": "stdout",
     "output_type": "stream",
     "text": [
      "<class 'pandas.core.frame.DataFrame'>\n",
      "RangeIndex: 557424 entries, 0 to 557423\n",
      "Data columns (total 10 columns):\n",
      " #   Column             Non-Null Count   Dtype  \n",
      "---  ------             --------------   -----  \n",
      " 0   time               557424 non-null  object \n",
      " 1   cityname           557424 non-null  object \n",
      " 2   aqi                557424 non-null  int64  \n",
      " 3   pm2_5              557424 non-null  int64  \n",
      " 4   pm10               557424 non-null  int64  \n",
      " 5   so2                557424 non-null  int64  \n",
      " 6   no2                557424 non-null  int64  \n",
      " 7   co                 557424 non-null  float64\n",
      " 8   o3                 211516 non-null  float64\n",
      " 9   primary_pollutant  528587 non-null  object \n",
      "dtypes: float64(2), int64(5), object(3)\n",
      "memory usage: 155.2 MB\n"
     ]
    }
   ],
   "source": [
    "df.info(memory_usage='deep')"
   ]
  },
  {
   "cell_type": "markdown",
   "id": "5a185ef4",
   "metadata": {},
   "source": [
    "可以看出 一共占用内存 155.2MB。 每个样本包含10个属性：2个 float 型；  5个 int 型； 3个 string 型"
   ]
  },
  {
   "cell_type": "markdown",
   "id": "88917211",
   "metadata": {},
   "source": [
    "###### 来计算平均每个类型的数据占用的内存"
   ]
  },
  {
   "cell_type": "code",
   "execution_count": 26,
   "id": "f4963b69",
   "metadata": {},
   "outputs": [
    {
     "name": "stdout",
     "output_type": "stream",
     "text": [
      "float64\t型数据一共占用内存\t8.5057373046875\tMB\n",
      "int64\t型数据一共占用内存\t21.26416015625\tMB\n",
      "object\t型数据一共占用内存\t125.47677516937256\tMB\n"
     ]
    }
   ],
   "source": [
    "for dtype in ['float64', 'int64', 'object'] :\n",
    "    selected_dtype = df.select_dtypes(include = [dtype])\n",
    "    sum_usage_b = selected_dtype.memory_usage(deep=True).sum()\n",
    "    sum_usage_mb = sum_usage_b / 1024**2\n",
    "    print(f'{dtype}\\t型数据一共占用内存\\t{sum_usage_mb}\\tMB')"
   ]
  },
  {
   "cell_type": "markdown",
   "id": "43a65fee",
   "metadata": {},
   "source": [
    "###### 查询一下数值类型的数据能表示的数据范围"
   ]
  },
  {
   "cell_type": "code",
   "execution_count": 27,
   "id": "2c919baa",
   "metadata": {},
   "outputs": [],
   "source": [
    "import numpy as np"
   ]
  },
  {
   "cell_type": "code",
   "execution_count": 35,
   "id": "df51c567",
   "metadata": {},
   "outputs": [
    {
     "name": "stdout",
     "output_type": "stream",
     "text": [
      "Machine parameters for uint8\n",
      "---------------------------------------------------------------\n",
      "min = 0\n",
      "max = 255\n",
      "---------------------------------------------------------------\n",
      "\n",
      "Machine parameters for int8\n",
      "---------------------------------------------------------------\n",
      "min = -128\n",
      "max = 127\n",
      "---------------------------------------------------------------\n",
      "\n",
      "Machine parameters for int16\n",
      "---------------------------------------------------------------\n",
      "min = -32768\n",
      "max = 32767\n",
      "---------------------------------------------------------------\n",
      "\n",
      "Machine parameters for int32\n",
      "---------------------------------------------------------------\n",
      "min = -2147483648\n",
      "max = 2147483647\n",
      "---------------------------------------------------------------\n",
      "\n",
      "Machine parameters for int64\n",
      "---------------------------------------------------------------\n",
      "min = -9223372036854775808\n",
      "max = 9223372036854775807\n",
      "---------------------------------------------------------------\n",
      "\n",
      "Machine parameters for float32\n",
      "---------------------------------------------------------------\n",
      "precision =   6   resolution = 1.0000000e-06\n",
      "machep =    -23   eps =        1.1920929e-07\n",
      "negep =     -24   epsneg =     5.9604645e-08\n",
      "minexp =   -126   tiny =       1.1754944e-38\n",
      "maxexp =    128   max =        3.4028235e+38\n",
      "nexp =        8   min =        -max\n",
      "---------------------------------------------------------------\n",
      "\n",
      "Machine parameters for float64\n",
      "---------------------------------------------------------------\n",
      "precision =  15   resolution = 1.0000000000000001e-15\n",
      "machep =    -52   eps =        2.2204460492503131e-16\n",
      "negep =     -53   epsneg =     1.1102230246251565e-16\n",
      "minexp =  -1022   tiny =       2.2250738585072014e-308\n",
      "maxexp =   1024   max =        1.7976931348623157e+308\n",
      "nexp =       11   min =        -max\n",
      "---------------------------------------------------------------\n",
      "\n"
     ]
    }
   ],
   "source": [
    "types = ['uint8', 'int8', 'int16', 'int32', 'int64', 'float32', 'float64']\n",
    "for it in types:\n",
    "    if((it != 'float32') & (it !='float64')):\n",
    "        print(np.iinfo(it))\n",
    "    else:\n",
    "        print(np.finfo(it))"
   ]
  },
  {
   "cell_type": "markdown",
   "id": "52d1698b",
   "metadata": {},
   "source": [
    "可以发现 int64 类型数据可表示范围足够大，对于当前数据集有点浪费，于是就要降型"
   ]
  },
  {
   "cell_type": "markdown",
   "id": "a0f5ef5f",
   "metadata": {},
   "source": [
    "##### int型数据降型"
   ]
  },
  {
   "cell_type": "markdown",
   "id": "bc2fb1b3",
   "metadata": {},
   "source": [
    "定义一个计算内存的方法"
   ]
  },
  {
   "cell_type": "code",
   "execution_count": 36,
   "id": "9be2109f",
   "metadata": {},
   "outputs": [],
   "source": [
    "def mem_usage(obj):\n",
    "    if isinstance(obj, pd.DataFrame):\n",
    "        usage_b = obj.memory_usage(deep=True).sum()\n",
    "    else:                 # 对于 Series 结构\n",
    "        usage_b = obj.memory_usage(deep=True)\n",
    "    usage_mb = usage_b/1024**2\n",
    "    return '{:03.2f} MB'.format(usage_mb)\n",
    "        "
   ]
  },
  {
   "cell_type": "markdown",
   "id": "c48cdc48",
   "metadata": {},
   "source": [
    "数据类型转换"
   ]
  },
  {
   "cell_type": "code",
   "execution_count": 43,
   "id": "7e3beeab",
   "metadata": {},
   "outputs": [
    {
     "name": "stdout",
     "output_type": "stream",
     "text": [
      "21.26 MB\n",
      "5.32 MB\n"
     ]
    }
   ],
   "source": [
    "df_int = df.select_dtypes(include = ['int64'])\n",
    "convert_int = df_int.apply(pd.to_numeric, downcast='unsigned')\n",
    "print(mem_usage(df_int))\n",
    "print(mem_usage(convert_int))"
   ]
  },
  {
   "cell_type": "markdown",
   "id": "71023988",
   "metadata": {},
   "source": [
    "##### float型数据转换 也一样"
   ]
  },
  {
   "cell_type": "code",
   "execution_count": 45,
   "id": "c4dbec62",
   "metadata": {},
   "outputs": [
    {
     "name": "stdout",
     "output_type": "stream",
     "text": [
      "8.51 MB\n",
      "4.25 MB\n"
     ]
    }
   ],
   "source": [
    "df_float = df.select_dtypes(include = ['float64'])\n",
    "convert_float = df_float.apply(pd.to_numeric, downcast='float')\n",
    "print(mem_usage(df_float))\n",
    "print(mem_usage(convert_float))"
   ]
  },
  {
   "cell_type": "markdown",
   "id": "f0e2d397",
   "metadata": {},
   "source": [
    "##### 接着再转换最占内存的 string 型数据"
   ]
  },
  {
   "cell_type": "code",
   "execution_count": null,
   "id": "94a5b9bd",
   "metadata": {},
   "outputs": [],
   "source": [
    "  "
   ]
  }
 ],
 "metadata": {
  "kernelspec": {
   "display_name": "Python 3 (ipykernel)",
   "language": "python",
   "name": "python3"
  },
  "language_info": {
   "codemirror_mode": {
    "name": "ipython",
    "version": 3
   },
   "file_extension": ".py",
   "mimetype": "text/x-python",
   "name": "python",
   "nbconvert_exporter": "python",
   "pygments_lexer": "ipython3",
   "version": "3.9.7"
  }
 },
 "nbformat": 4,
 "nbformat_minor": 5
}
