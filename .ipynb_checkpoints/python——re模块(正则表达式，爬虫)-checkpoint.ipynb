{
 "cells": [
  {
   "cell_type": "code",
   "execution_count": 37,
   "id": "24d3fd35",
   "metadata": {},
   "outputs": [],
   "source": [
    "import re"
   ]
  },
  {
   "cell_type": "code",
   "execution_count": 35,
   "id": "702dc1e1",
   "metadata": {},
   "outputs": [],
   "source": [
    "s = \"我的电话是：10086，我女朋友的电话号码是：10010.\""
   ]
  },
  {
   "cell_type": "markdown",
   "id": "98a53b39",
   "metadata": {},
   "source": [
    "res = re.findall(pattern, string, flags=0)\n",
    "* res：返回一个列表，列表中的每个字符串元素就是符合的结果\n",
    "* pattern：正则表达式\n",
    "* string：要匹配的原始字符串\n",
    "* flags：不常用，默认为0"
   ]
  },
  {
   "cell_type": "code",
   "execution_count": 16,
   "id": "bbeff890",
   "metadata": {},
   "outputs": [
    {
     "data": {
      "text/plain": [
       "['10086', '10010']"
      ]
     },
     "execution_count": 16,
     "metadata": {},
     "output_type": "execute_result"
    }
   ],
   "source": [
    "res = re.findall(pattern=\"\\d+\", string=s)\n",
    "res"
   ]
  },
  {
   "cell_type": "markdown",
   "id": "2c301850",
   "metadata": {},
   "source": [
    "> findall有一个问题：如果string是一个爬取的网页的内容，那最后匹配成功的元素可能会非常多，列表需要把所有的符合的结果都计算出来存放在内存，浪费资源。finditer和findall一摸一样，只不过返回一个迭代器，不用一次生成所有结果，而且按需一个一个生成。"
   ]
  },
  {
   "cell_type": "markdown",
   "id": "0d58bf25",
   "metadata": {},
   "source": [
    "res = re.finditer(pattern, string, flags=0)\n",
    "* res：返回一个迭代器，每个元素就是符合匹配的结果\n",
    "* pattern：正则表达式\n",
    "* string：要匹配的原始字符串\n",
    "* flags：不常用，默认为0"
   ]
  },
  {
   "cell_type": "code",
   "execution_count": 17,
   "id": "6b0a4796",
   "metadata": {},
   "outputs": [
    {
     "data": {
      "text/plain": [
       "<callable_iterator at 0x26f4679e790>"
      ]
     },
     "execution_count": 17,
     "metadata": {},
     "output_type": "execute_result"
    }
   ],
   "source": [
    "ret = re.finditer(pattern=\"\\d+\", string=s)\n",
    "ret"
   ]
  },
  {
   "cell_type": "code",
   "execution_count": 18,
   "id": "f56dc29c",
   "metadata": {},
   "outputs": [
    {
     "name": "stdout",
     "output_type": "stream",
     "text": [
      "<re.Match object; span=(6, 11), match='10086'>\n",
      "10086\n",
      "<re.Match object; span=(23, 28), match='10010'>\n",
      "10010\n"
     ]
    }
   ],
   "source": [
    "# 迭代器通过for循环取元素\n",
    "for item in ret:\n",
    "    print(item)\n",
    "    # 如果只要数据：\n",
    "    print(item.group())"
   ]
  },
  {
   "cell_type": "markdown",
   "id": "98c8d85b",
   "metadata": {},
   "source": [
    "res = re.search(pattern, string, flags=0)\n",
    "* res：包装匹配成功的数据以re.Match对象返回，若想读取值通过：.group()\n",
    "* pattern：正则表达式\n",
    "* string：要匹配的原始字符串\n",
    "* flags：不常用，默认为0"
   ]
  },
  {
   "cell_type": "markdown",
   "id": "b1944aa2",
   "metadata": {},
   "source": [
    "> 注意：search只返回第最先匹配成功的对象，也就是说res只是单一Match对象"
   ]
  },
  {
   "cell_type": "code",
   "execution_count": 29,
   "id": "1bae419e",
   "metadata": {},
   "outputs": [
    {
     "name": "stdout",
     "output_type": "stream",
     "text": [
      "<re.Match object; span=(6, 11), match='10086'>\n",
      "10086\n"
     ]
    }
   ],
   "source": [
    "ret = re.search(pattern=\"\\d+\", string=s)\n",
    "print(ret)\n",
    "print(ret.group())"
   ]
  },
  {
   "cell_type": "markdown",
   "id": "303c0c77",
   "metadata": {},
   "source": [
    "res = re.match(pattern, string, flags=0)\n",
    "* res：包装匹配成功的数据以re.Match对象返回，若想读取值通过：.group()\n",
    "* pattern：正则表达式\n",
    "* string：要匹配的原始字符串\n",
    "* flags：不常用，默认为0"
   ]
  },
  {
   "cell_type": "markdown",
   "id": "9eefda13",
   "metadata": {},
   "source": [
    "> match默认从第一个元素开始匹配，如果第一个匹配不成功就结束，返回none"
   ]
  },
  {
   "cell_type": "code",
   "execution_count": 30,
   "id": "32ff32b4",
   "metadata": {},
   "outputs": [
    {
     "name": "stdout",
     "output_type": "stream",
     "text": [
      "None\n"
     ]
    }
   ],
   "source": [
    "res = re.match(pattern=\"\\d+\", string=s)\n",
    "print(res)"
   ]
  },
  {
   "cell_type": "code",
   "execution_count": 31,
   "id": "dcfefebc",
   "metadata": {},
   "outputs": [
    {
     "name": "stdout",
     "output_type": "stream",
     "text": [
      "<re.Match object; span=(0, 1), match='1'>\n"
     ]
    }
   ],
   "source": [
    "s = \"1wwdadwa\"\n",
    "res = re.match(pattern=\"\\d+\", string=s)\n",
    "print(res)"
   ]
  },
  {
   "cell_type": "markdown",
   "id": "8dd54fa7",
   "metadata": {},
   "source": [
    ">正则表达式预编译：就不用每次在方法里手写了，提前设计好表达式，方便复用。"
   ]
  },
  {
   "cell_type": "code",
   "execution_count": 36,
   "id": "36ec4d51",
   "metadata": {},
   "outputs": [
    {
     "name": "stdout",
     "output_type": "stream",
     "text": [
      "<class 're.Pattern'>\n"
     ]
    },
    {
     "data": {
      "text/plain": [
       "['10086', '10010']"
      ]
     },
     "execution_count": 36,
     "metadata": {},
     "output_type": "execute_result"
    }
   ],
   "source": [
    "obj = re.compile(\"\\d+\")\n",
    "print(type(obj))\n",
    "ret = obj.findall(string=s)\n",
    "ret"
   ]
  },
  {
   "cell_type": "markdown",
   "id": "e1efe2fb",
   "metadata": {},
   "source": [
    "实例："
   ]
  },
  {
   "cell_type": "code",
   "execution_count": 53,
   "id": "4a2949be",
   "metadata": {},
   "outputs": [],
   "source": [
    "sq = \"\"\"\n",
    "         <div id='dfg'><span class='1'>四面八方</span></div>\n",
    "         <div id='ab'><span class='2'>胡说八道</span></div>\n",
    "         <div id='lru'><span class='3'>动手动脚</span></div>\n",
    "         <div id='wghter'><span class='4'>爱咋咋地</span></div>\n",
    "         <div id='ymuo'><span class='5'>震惊</span></div>\n",
    "    \"\"\"\n",
    "obj = re.compile(\"<div id='.*?'><span class='.*?'>.*?</span></div>\", re.S)  # re.S 是为了防止html文件的断行"
   ]
  },
  {
   "cell_type": "code",
   "execution_count": 54,
   "id": "7bfa6136",
   "metadata": {},
   "outputs": [
    {
     "name": "stdout",
     "output_type": "stream",
     "text": [
      "<div id='dfg'><span class='1'>四面八方</span></div>\n",
      "<div id='ab'><span class='2'>胡说八道</span></div>\n",
      "<div id='lru'><span class='3'>动手动脚</span></div>\n",
      "<div id='wghter'><span class='4'>爱咋咋地</span></div>\n",
      "<div id='ymuo'><span class='5'>震惊</span></div>\n"
     ]
    }
   ],
   "source": [
    "res = obj.finditer(string=sq)\n",
    "for item in res:\n",
    "    print(item.group())"
   ]
  },
  {
   "cell_type": "code",
   "execution_count": 55,
   "id": "a7552e4f",
   "metadata": {},
   "outputs": [
    {
     "name": "stdout",
     "output_type": "stream",
     "text": [
      "dfg 1 四面八方\n",
      "ab 2 胡说八道\n",
      "lru 3 动手动脚\n",
      "wghter 4 爱咋咋地\n",
      "ymuo 5 震惊\n"
     ]
    }
   ],
   "source": [
    "# 如果把每一组 .*? 前面加上 ?P<>，并在尖括号里随便取名字，并在最外面加上()，那么就可通过group（）方法得到\n",
    "obj = re.compile(\"<div id='(?P<fea>.*?)'><span class='(?P<ttt>.*?)'>(?P<pln>.*?)</span></div>\", re.S)\n",
    "res = obj.finditer(string=sq)\n",
    "for item in res:\n",
    "    print(item.group(\"fea\"), item.group(\"ttt\"), item.group(\"pln\"))"
   ]
  }
 ],
 "metadata": {
  "kernelspec": {
   "display_name": "Python 3 (ipykernel)",
   "language": "python",
   "name": "python3"
  },
  "language_info": {
   "codemirror_mode": {
    "name": "ipython",
    "version": 3
   },
   "file_extension": ".py",
   "mimetype": "text/x-python",
   "name": "python",
   "nbconvert_exporter": "python",
   "pygments_lexer": "ipython3",
   "version": "3.9.7"
  }
 },
 "nbformat": 4,
 "nbformat_minor": 5
}
